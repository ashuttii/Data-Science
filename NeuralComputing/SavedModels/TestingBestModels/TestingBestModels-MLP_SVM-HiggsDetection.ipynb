{
 "cells": [
  {
   "cell_type": "markdown",
   "metadata": {
    "id": "v47RfpTZFaFW"
   },
   "source": [
    "### TESTING BEST MODELS - MLP vs SVM"
   ]
  },
  {
   "cell_type": "markdown",
   "metadata": {
    "id": "eP__fXcgFg0o"
   },
   "source": [
    "**IMPORTS**\n"
   ]
  },
  {
   "cell_type": "code",
   "execution_count": 1,
   "metadata": {
    "colab": {
     "base_uri": "https://localhost:8080/"
    },
    "executionInfo": {
     "elapsed": 23474,
     "status": "ok",
     "timestamp": 1652020396105,
     "user": {
      "displayName": "Asha G",
      "userId": "11159914543598210133"
     },
     "user_tz": -60
    },
    "id": "LNABvR-yFe0G",
    "outputId": "23572072-56be-4ae9-dffd-96fa2ee30980"
   },
   "outputs": [
    {
     "name": "stdout",
     "output_type": "stream",
     "text": [
      "Mounted at /content/drive\n"
     ]
    }
   ],
   "source": [
    "from google.colab import drive\n",
    "drive.mount('/content/drive')"
   ]
  },
  {
   "cell_type": "code",
   "execution_count": 2,
   "metadata": {
    "executionInfo": {
     "elapsed": 836,
     "status": "ok",
     "timestamp": 1652020396936,
     "user": {
      "displayName": "Asha G",
      "userId": "11159914543598210133"
     },
     "user_tz": -60
    },
    "id": "vY9Gr_ipFk5m"
   },
   "outputs": [],
   "source": [
    "import pandas as pd\n",
    "import numpy as np\n",
    "import seaborn as sns\n",
    "import matplotlib.pyplot as plt\n",
    "from sklearn.model_selection import train_test_split\n",
    "from sklearn.svm import SVC\n",
    "from sklearn.metrics import confusion_matrix\n",
    "from sklearn.model_selection import cross_val_score\n",
    "from sklearn.metrics import classification_report, confusion_matrix\n",
    "import os\n",
    "from sklearn.metrics import accuracy_score\n",
    "import joblib\n",
    "from sklearn.model_selection import GridSearchCV\n",
    "from sklearn.model_selection import cross_val_score"
   ]
  },
  {
   "cell_type": "code",
   "execution_count": 10,
   "metadata": {
    "executionInfo": {
     "elapsed": 316,
     "status": "ok",
     "timestamp": 1652020773673,
     "user": {
      "displayName": "Asha G",
      "userId": "11159914543598210133"
     },
     "user_tz": -60
    },
    "id": "EL2oiCVEFtJS"
   },
   "outputs": [],
   "source": [
    "from sklearn.neural_network import MLPClassifier\n",
    "from sklearn.datasets import make_classification\n",
    "from sklearn.model_selection import train_test_split\n",
    "from sklearn.preprocessing import StandardScaler\n",
    "from sklearn.decomposition import PCA\n",
    "\n",
    "import matplotlib.pyplot as plt\n",
    "\n",
    "from sklearn.decomposition import PCA\n",
    "\n",
    "from sklearn.metrics import accuracy_score\n",
    "\n",
    "from sklearn.pipeline import make_pipeline\n",
    "from joblib import dump, load"
   ]
  },
  {
   "cell_type": "code",
   "execution_count": 6,
   "metadata": {
    "colab": {
     "base_uri": "https://localhost:8080/"
    },
    "executionInfo": {
     "elapsed": 1491,
     "status": "ok",
     "timestamp": 1652020626459,
     "user": {
      "displayName": "Asha G",
      "userId": "11159914543598210133"
     },
     "user_tz": -60
    },
    "id": "XZK7M73LGX_J",
    "outputId": "e9ccca70-2653-4731-f34c-79364d444182"
   },
   "outputs": [
    {
     "name": "stdout",
     "output_type": "stream",
     "text": [
      "['TestingBestModels-MLP_SVM-HiggsDetection.ipynb', 'MLP_FinalModelwithBestParameters.pkl', 'y_test_data.csv', 'X_test_data.csv', 'SVMClf_Final _model_SVM_Higgs.pkl']\n"
     ]
    }
   ],
   "source": [
    "import os\n",
    "# code to run in my colab notebook\n",
    "GOOGLE_DRIVE_PATH_AFTER_MYDRIVE = 'ColabNotebooks/NN/CourseWork/HiggsDetection_NeuralComputing/SavedModels/TestingBestModels' \n",
    "GOOGLE_DRIVE_PATH = os.path.join('drive', 'My Drive', GOOGLE_DRIVE_PATH_AFTER_MYDRIVE)\n",
    "print(os.listdir(GOOGLE_DRIVE_PATH))"
   ]
  },
  {
   "cell_type": "markdown",
   "metadata": {
    "id": "W2NwkuDBMiLj"
   },
   "source": [
    "**If running in Google Drive uncomment and run the below code** \n",
    "\n"
   ]
  },
  {
   "cell_type": "code",
   "execution_count": null,
   "metadata": {
    "id": "gIGs1QO2MYZ2"
   },
   "outputs": [],
   "source": [
    "# If running in Google Drive uncomment and run the below code \n",
    "\n",
    "#GOOGLE_DRIVE_PATH_AFTER_MYDRIVE = 'Colab Notebooks/HiggsDetection_NeuralComputing/SavedModels/TestingBestModels'"
   ]
  },
  {
   "cell_type": "code",
   "execution_count": 9,
   "metadata": {
    "executionInfo": {
     "elapsed": 848,
     "status": "ok",
     "timestamp": 1652020673821,
     "user": {
      "displayName": "Asha G",
      "userId": "11159914543598210133"
     },
     "user_tz": -60
    },
    "id": "VabnLVBPFtLo"
   },
   "outputs": [],
   "source": [
    "X_test = pd.read_csv(GOOGLE_DRIVE_PATH + '/X_test_data.csv')\n",
    "y_test = pd.read_csv(GOOGLE_DRIVE_PATH + '/y_test_data.csv')"
   ]
  },
  {
   "cell_type": "code",
   "execution_count": null,
   "metadata": {
    "id": "nHJWQGIKLLM0"
   },
   "outputs": [],
   "source": []
  },
  {
   "cell_type": "markdown",
   "metadata": {
    "id": "RXW_C6EaLLvl"
   },
   "source": [
    "### **If running the same in Jupyter Notebook**\n",
    "\n",
    "run the below cells"
   ]
  },
  {
   "cell_type": "code",
   "execution_count": null,
   "metadata": {
    "id": "owl0k8WoLUDJ"
   },
   "outputs": [],
   "source": [
    "#If running the same in JUPYTER NOTEBOOK uncomment and run this cell\n",
    "\n",
    "# X_test = pd.read_csv('X_test_data.csv')\n",
    "# y_test = pd.read_csv('y_test_data.csv')"
   ]
  },
  {
   "cell_type": "markdown",
   "metadata": {
    "id": "bCi1g9rgGxPl"
   },
   "source": [
    "### MLP Testing\n",
    "\n",
    "*Test data needs to be scaled and PCA of 27 components needs to be extracted*\n",
    "\n"
   ]
  },
  {
   "cell_type": "code",
   "execution_count": 11,
   "metadata": {
    "executionInfo": {
     "elapsed": 786,
     "status": "ok",
     "timestamp": 1652020796367,
     "user": {
      "displayName": "Asha G",
      "userId": "11159914543598210133"
     },
     "user_tz": -60
    },
    "id": "21K0FRCIFtNZ"
   },
   "outputs": [],
   "source": [
    "BestClassifier_MLP = load(GOOGLE_DRIVE_PATH + '/MLP_FinalModelwithBestParameters.pkl') "
   ]
  },
  {
   "cell_type": "code",
   "execution_count": null,
   "metadata": {
    "id": "7r4vcCUeLmSA"
   },
   "outputs": [],
   "source": [
    "#If running the same in JUPYTER NOTEBOOK uncomment and run this cell\n",
    "\n",
    "# BestClassifier_MLP = load('MLP_FinalModelwithBestParameters.pkl') "
   ]
  },
  {
   "cell_type": "code",
   "execution_count": 12,
   "metadata": {
    "colab": {
     "base_uri": "https://localhost:8080/"
    },
    "executionInfo": {
     "elapsed": 278,
     "status": "ok",
     "timestamp": 1652020811005,
     "user": {
      "displayName": "Asha G",
      "userId": "11159914543598210133"
     },
     "user_tz": -60
    },
    "id": "nAuthyVTFtPq",
    "outputId": "c802c02d-995c-41eb-b43c-3e67b0ea3235"
   },
   "outputs": [
    {
     "name": "stdout",
     "output_type": "stream",
     "text": [
      "MLP Accuracy on Test data: \n",
      "0.5782253952065273\n",
      "MLP Results for Test data  : \n",
      "              precision    recall  f1-score   support\n",
      "\n",
      "           0       0.56      0.49      0.52      9205\n",
      "           1       0.59      0.66      0.62     10405\n",
      "\n",
      "    accuracy                           0.58     19610\n",
      "   macro avg       0.58      0.57      0.57     19610\n",
      "weighted avg       0.58      0.58      0.58     19610\n",
      "\n"
     ]
    }
   ],
   "source": [
    "scaler_test = StandardScaler()  \n",
    "scaler_test.fit(X_test)\n",
    "\n",
    "X_test = scaler_test.transform(X_test)\n",
    "\n",
    "\n",
    "from sklearn.decomposition import PCA\n",
    "# Make an instance of the Model\n",
    "pca = PCA(n_components = 27)\n",
    "\n",
    "pca.fit(X_test)\n",
    "\n",
    "X_test = pca.transform(X_test)\n",
    "\n",
    "\n",
    "y_preds_test = BestClassifier_MLP.predict(X_test)\n",
    "\n",
    "print('MLP Accuracy on Test data: ')\n",
    "print(BestClassifier_MLP.score(X_test, y_test))\n",
    "\n",
    "print('MLP Results for Test data  : ')\n",
    "print(classification_report(y_test, y_preds_test))"
   ]
  },
  {
   "cell_type": "code",
   "execution_count": 13,
   "metadata": {
    "colab": {
     "base_uri": "https://localhost:8080/",
     "height": 350
    },
    "executionInfo": {
     "elapsed": 382,
     "status": "ok",
     "timestamp": 1652020842103,
     "user": {
      "displayName": "Asha G",
      "userId": "11159914543598210133"
     },
     "user_tz": -60
    },
    "id": "Ge2o4vdGFtRe",
    "outputId": "d9964543-740e-40e7-837d-6c667a7ee2b7"
   },
   "outputs": [
    {
     "name": "stderr",
     "output_type": "stream",
     "text": [
      "/usr/local/lib/python3.7/dist-packages/sklearn/utils/deprecation.py:87: FutureWarning: Function plot_confusion_matrix is deprecated; Function `plot_confusion_matrix` is deprecated in 1.0 and will be removed in 1.2. Use one of the class methods: ConfusionMatrixDisplay.from_predictions or ConfusionMatrixDisplay.from_estimator.\n",
      "  warnings.warn(msg, category=FutureWarning)\n"
     ]
    },
    {
     "data": {
      "image/png": "[encoded data removed]",
      "text/plain": [
       "<Figure size 432x288 with 2 Axes>"
      ]
     },
     "metadata": {
      "needs_background": "light"
     },
     "output_type": "display_data"
    }
   ],
   "source": [
    "from sklearn.metrics import plot_confusion_matrix\n",
    "plot_confusion_matrix(BestClassifier_MLP, X_test, y_test)  \n",
    "plt.title('Confusion matrix - MLP Test data')\n",
    "plt.show()"
   ]
  },
  {
   "cell_type": "code",
   "execution_count": 23,
   "metadata": {
    "colab": {
     "base_uri": "https://localhost:8080/",
     "height": 295
    },
    "executionInfo": {
     "elapsed": 376,
     "status": "ok",
     "timestamp": 1652021383849,
     "user": {
      "displayName": "Asha G",
      "userId": "11159914543598210133"
     },
     "user_tz": -60
    },
    "id": "sKxEY_gXHYuM",
    "outputId": "7856c207-6000-45ed-d67f-c966f341cf07"
   },
   "outputs": [
    {
     "data": {
      "image/png": "[encoded data removed]",
      "text/plain": [
       "<Figure size 432x288 with 1 Axes>"
      ]
     },
     "metadata": {
      "needs_background": "light"
     },
     "output_type": "display_data"
    }
   ],
   "source": [
    "from sklearn.metrics import roc_curve, auc\n",
    "from sklearn.metrics import roc_auc_score\n",
    "\n",
    "MLPTEST_fpr, MLPTEST_tpr, MLPTEST_thresholds = roc_curve(y_preds_test, y_test)\n",
    "roc_auc_TEST = auc(MLPTEST_fpr, MLPTEST_fpr)\n",
    "\n",
    "plt.figure()\n",
    "plt.plot(MLPTEST_fpr, MLPTEST_tpr, color=\"darkorange\",\n",
    "label=\"ROC curve (area = %0.2f)\" % roc_auc_TEST,)\n",
    "plt.plot([0, 1], [0, 1], color=\"darkgreen\",  linestyle=\"--\")\n",
    "plt.xlim([0.0, 1.0])\n",
    "plt.ylim([0.0, 1.05])\n",
    "plt.xlabel(\"False Positive Rate\")\n",
    "plt.ylabel(\"True Positive Rate\")\n",
    "plt.title(\"ROC for MLP - Test data\")\n",
    "plt.legend(loc=\"lower right\")\n",
    "plt.show()\n"
   ]
  },
  {
   "cell_type": "code",
   "execution_count": null,
   "metadata": {
    "id": "F2vX5xsxHdsp"
   },
   "outputs": [],
   "source": []
  },
  {
   "cell_type": "markdown",
   "metadata": {
    "id": "ZU0Uq9tjHglA"
   },
   "source": [
    "## SVM Testing\n",
    "\n"
   ]
  },
  {
   "cell_type": "code",
   "execution_count": 15,
   "metadata": {
    "executionInfo": {
     "elapsed": 1013,
     "status": "ok",
     "timestamp": 1652021076037,
     "user": {
      "displayName": "Asha G",
      "userId": "11159914543598210133"
     },
     "user_tz": -60
    },
    "id": "boVH3F4UHig0"
   },
   "outputs": [],
   "source": [
    "BestClassifier_SVM = load(GOOGLE_DRIVE_PATH + '/SVMClf_Final _model_SVM_Higgs.pkl') "
   ]
  },
  {
   "cell_type": "code",
   "execution_count": null,
   "metadata": {
    "id": "KQUz-t4HL2Sm"
   },
   "outputs": [],
   "source": [
    "#If running the same in JUPYTER NOTEBOOK uncomment and run this cell\n",
    "\n",
    "# BestClassifier_SVM = load('SVMClf_Final _model_SVM_Higgs.pkl') "
   ]
  },
  {
   "cell_type": "code",
   "execution_count": null,
   "metadata": {
    "id": "cV4z0vVWLy4H"
   },
   "outputs": [],
   "source": [
    "#If running the same in JUPYTER NOTEBOOK uncomment and run this cell\n",
    "\n",
    "# X_test = pd.read_csv('X_test_data.csv')\n",
    "# y_test = pd.read_csv('y_test_data.csv')"
   ]
  },
  {
   "cell_type": "code",
   "execution_count": 17,
   "metadata": {
    "executionInfo": {
     "elapsed": 287,
     "status": "ok",
     "timestamp": 1652021168291,
     "user": {
      "displayName": "Asha G",
      "userId": "11159914543598210133"
     },
     "user_tz": -60
    },
    "id": "3O_DKOEiIn6K"
   },
   "outputs": [],
   "source": [
    "X_test = pd.read_csv(GOOGLE_DRIVE_PATH + '/X_test_data.csv')\n",
    "y_test = pd.read_csv(GOOGLE_DRIVE_PATH + '/y_test_data.csv')"
   ]
  },
  {
   "cell_type": "code",
   "execution_count": 18,
   "metadata": {
    "colab": {
     "base_uri": "https://localhost:8080/"
    },
    "executionInfo": {
     "elapsed": 79283,
     "status": "ok",
     "timestamp": 1652021248681,
     "user": {
      "displayName": "Asha G",
      "userId": "11159914543598210133"
     },
     "user_tz": -60
    },
    "id": "DUKOic4OIRlO",
    "outputId": "cc83f9ba-307c-4433-bc5a-afce92c61fc0"
   },
   "outputs": [
    {
     "name": "stdout",
     "output_type": "stream",
     "text": [
      "MLP Accuracy on Test data: \n",
      "0.644365119836818\n",
      "MLP Results for Test data  : \n",
      "              precision    recall  f1-score   support\n",
      "\n",
      "           0       0.68      0.45      0.54      9205\n",
      "           1       0.63      0.82      0.71     10405\n",
      "\n",
      "    accuracy                           0.64     19610\n",
      "   macro avg       0.66      0.63      0.63     19610\n",
      "weighted avg       0.65      0.64      0.63     19610\n",
      "\n"
     ]
    }
   ],
   "source": [
    "y_preds_test = BestClassifier_SVM.predict(X_test)\n",
    "\n",
    "print('MLP Accuracy on Test data: ')\n",
    "print(BestClassifier_SVM.score(X_test, y_test))\n",
    "\n",
    "print('MLP Results for Test data  : ')\n",
    "print(classification_report(y_test, y_preds_test))"
   ]
  },
  {
   "cell_type": "code",
   "execution_count": 21,
   "metadata": {
    "colab": {
     "base_uri": "https://localhost:8080/",
     "height": 350
    },
    "executionInfo": {
     "elapsed": 34985,
     "status": "ok",
     "timestamp": 1652021324694,
     "user": {
      "displayName": "Asha G",
      "userId": "11159914543598210133"
     },
     "user_tz": -60
    },
    "id": "0OWogESBIVG3",
    "outputId": "eb23d7ee-4007-46c9-d36c-e040df720ed1"
   },
   "outputs": [
    {
     "name": "stderr",
     "output_type": "stream",
     "text": [
      "/usr/local/lib/python3.7/dist-packages/sklearn/utils/deprecation.py:87: FutureWarning: Function plot_confusion_matrix is deprecated; Function `plot_confusion_matrix` is deprecated in 1.0 and will be removed in 1.2. Use one of the class methods: ConfusionMatrixDisplay.from_predictions or ConfusionMatrixDisplay.from_estimator.\n",
      "  warnings.warn(msg, category=FutureWarning)\n"
     ]
    },
    {
     "data": {
      "image/png": "[encoded data removed]",
      "text/plain": [
       "<Figure size 432x288 with 2 Axes>"
      ]
     },
     "metadata": {
      "needs_background": "light"
     },
     "output_type": "display_data"
    }
   ],
   "source": [
    "from sklearn.metrics import plot_confusion_matrix\n",
    "plot_confusion_matrix(BestClassifier_SVM, X_test, y_test)  \n",
    "plt.title('Confusion matrix - SVM Test data')\n",
    "plt.show()"
   ]
  },
  {
   "cell_type": "code",
   "execution_count": 22,
   "metadata": {
    "colab": {
     "base_uri": "https://localhost:8080/",
     "height": 295
    },
    "executionInfo": {
     "elapsed": 9,
     "status": "ok",
     "timestamp": 1652021324695,
     "user": {
      "displayName": "Asha G",
      "userId": "11159914543598210133"
     },
     "user_tz": -60
    },
    "id": "O1Do3VQoI15R",
    "outputId": "c9aa3e2e-a7d6-4154-f11b-1178d4c35c3e"
   },
   "outputs": [
    {
     "data": {
      "image/png": "[encoded data removed]",
      "text/plain": [
       "<Figure size 432x288 with 1 Axes>"
      ]
     },
     "metadata": {
      "needs_background": "light"
     },
     "output_type": "display_data"
    }
   ],
   "source": [
    "from sklearn.metrics import roc_curve, auc\n",
    "from sklearn.metrics import roc_auc_score\n",
    "\n",
    "SVMTEST_fpr, SVMTEST_tpr, SVMTEST_thresholds = roc_curve(y_test, y_preds_test)\n",
    "roc_auc = auc(SVMTEST_fpr, SVMTEST_tpr)\n",
    "\n",
    "plt.figure()\n",
    "plt.plot(SVMTEST_fpr, SVMTEST_tpr, color=\"darkorange\",\n",
    "label=\"ROC curve (area = %0.2f)\" % roc_auc,)\n",
    "plt.plot([0, 1], [0, 1], color=\"darkgreen\",  linestyle=\"--\")\n",
    "plt.xlim([0.0, 1.0])\n",
    "plt.ylim([0.0, 1.05])\n",
    "plt.xlabel(\"False Positive Rate\")\n",
    "plt.ylabel(\"True Positive Rate\")\n",
    "plt.title(\"ROC for SVM - Validation data\")\n",
    "plt.legend(loc=\"lower right\")\n",
    "plt.show()\n"
   ]
  },
  {
   "cell_type": "code",
   "execution_count": null,
   "metadata": {
    "id": "qJ2bJ1jZI4Og"
   },
   "outputs": [],
   "source": []
  }
 ],
 "metadata": {
  "colab": {
   "authorship_tag": "ABX9TyOj2zC7NXOA6hvD46V3m2Ik",
   "name": "TestingBestModels-MLP_SVM-HiggsDetection.ipynb",
   "provenance": []
  },
  "kernelspec": {
   "display_name": "Python 3 (ipykernel)",
   "language": "python",
   "name": "python3"
  },
  "language_info": {
   "codemirror_mode": {
    "name": "ipython",
    "version": 3
   },
   "file_extension": ".py",
   "mimetype": "text/x-python",
   "name": "python",
   "nbconvert_exporter": "python",
   "pygments_lexer": "ipython3",
   "version": "3.9.7"
  }
 },
 "nbformat": 4,
 "nbformat_minor": 1
}
