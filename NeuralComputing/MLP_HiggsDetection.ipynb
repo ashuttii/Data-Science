{
 "cells": [
  {
   "cell_type": "markdown",
   "metadata": {
    "id": "_V7MyztaHzA-"
   },
   "source": [
    "# Multi-Layer Perceptron - Higgs Detection\n",
    "\n",
    "Higgs signal is an exotic signal present all over the world but difficuilt to differentiate from background signals\n",
    "\n",
    "**A Multi-Layer Perceptron is a feedforward Artificial Neural Network (ANN). that consists of three types of layers: an input layer, hidden layer(s), and output layer.**\n",
    "\n",
    "The Model creation and evaluation is all done in Ipython and Scikit-learn Deep learning Libraries. MLPClassifier from sklearn library has a preset of classes and parameters which could be called and set accorging to needs.\n",
    "\n",
    "We aim to create the best MLP model that would classify Higgs signal (class - 1) from background (class - 0). This is a binary classification problem with 29 features in total. The train and test set was split even before preprocessing the training data. Hence test data is not introdced until the final best model is retrived.  "
   ]
  },
  {
   "cell_type": "markdown",
   "metadata": {
    "id": "xbsWBIfNHvZ9"
   },
   "source": [
    "Connecting to Google Drive (comment the below cell if training in Jupyter notebook)"
   ]
  },
  {
   "cell_type": "code",
   "execution_count": 2,
   "metadata": {
    "colab": {
     "base_uri": "https://localhost:8080/"
    },
    "executionInfo": {
     "elapsed": 14724,
     "status": "ok",
     "timestamp": 1652004849293,
     "user": {
      "displayName": "Asha G",
      "userId": "11159914543598210133"
     },
     "user_tz": -60
    },
    "id": "WtsGBBhCMdLl",
    "outputId": "47582fb7-25f8-4920-dd66-653f250188dd"
   },
   "outputs": [
    {
     "name": "stdout",
     "output_type": "stream",
     "text": [
      "Mounted at /content/drive\n"
     ]
    }
   ],
   "source": [
    "from google.colab import drive\n",
    "drive.mount('/content/drive')"
   ]
  },
  {
   "cell_type": "markdown",
   "metadata": {
    "id": "5su0i-_HYeyP"
   },
   "source": [
    "### Imports\n",
    "\n",
    "\n",
    "All Import required for model creation and evaluation"
   ]
  },
  {
   "cell_type": "code",
   "execution_count": 3,
   "metadata": {
    "executionInfo": {
     "elapsed": 1117,
     "status": "ok",
     "timestamp": 1652004850408,
     "user": {
      "displayName": "Asha G",
      "userId": "11159914543598210133"
     },
     "user_tz": -60
    },
    "id": "8V4rtSSaMqcM"
   },
   "outputs": [],
   "source": [
    "import pandas as pd\n",
    "import numpy as np\n",
    "import seaborn as sns\n",
    "import matplotlib.pyplot as plt\n",
    "from sklearn.model_selection import train_test_split\n",
    "from sklearn.svm import SVC\n",
    "from sklearn.metrics import confusion_matrix\n",
    "from sklearn.model_selection import cross_val_score\n",
    "from sklearn.metrics import classification_report, confusion_matrix\n",
    "import os\n",
    "from sklearn.metrics import accuracy_score\n",
    "import joblib\n",
    "from sklearn.model_selection import GridSearchCV\n",
    "from sklearn.model_selection import cross_val_score"
   ]
  },
  {
   "cell_type": "code",
   "execution_count": 4,
   "metadata": {
    "executionInfo": {
     "elapsed": 279,
     "status": "ok",
     "timestamp": 1652004850684,
     "user": {
      "displayName": "Asha G",
      "userId": "11159914543598210133"
     },
     "user_tz": -60
    },
    "id": "81rLqNoXMui3"
   },
   "outputs": [],
   "source": [
    "from sklearn.neural_network import MLPClassifier\n",
    "from sklearn.datasets import make_classification\n",
    "from sklearn.model_selection import train_test_split\n",
    "from sklearn.preprocessing import StandardScaler\n",
    "from sklearn.decomposition import PCA\n",
    "\n",
    "import matplotlib.pyplot as plt\n",
    "\n",
    "from sklearn.decomposition import PCA\n",
    "\n",
    "from sklearn.metrics import accuracy_score\n",
    "\n",
    "from sklearn.pipeline import make_pipeline"
   ]
  },
  {
   "cell_type": "code",
   "execution_count": 5,
   "metadata": {
    "executionInfo": {
     "elapsed": 2,
     "status": "ok",
     "timestamp": 1652004850685,
     "user": {
      "displayName": "Asha G",
      "userId": "11159914543598210133"
     },
     "user_tz": -60
    },
    "id": "fjaCwGfYMx6F"
   },
   "outputs": [],
   "source": [
    "import os\n",
    "\n",
    "# TODO: Fill in the Google Drive path where you uploaded the lab materials\n",
    "# Example: GOOGLE_DRIVE_PATH_AFTER_MYDRIVE = 'Colab Notebooks/Lab materials 01-20210104'\n",
    "\n",
    "GOOGLE_DRIVE_PATH_AFTER_MYDRIVE = 'ColabNotebooks/NN/CourseWork/HiggsDetection_NeuralComputing' \n",
    "GOOGLE_DRIVE_PATH = os.path.join('drive', 'My Drive', GOOGLE_DRIVE_PATH_AFTER_MYDRIVE)\n",
    "# print(os.listdir(GOOGLE_DRIVE_PATH))"
   ]
  },
  {
   "cell_type": "code",
   "execution_count": 6,
   "metadata": {
    "executionInfo": {
     "elapsed": 2,
     "status": "ok",
     "timestamp": 1652004850685,
     "user": {
      "displayName": "Asha G",
      "userId": "11159914543598210133"
     },
     "user_tz": -60
    },
    "id": "KGC3j0qJSjhK"
   },
   "outputs": [],
   "source": [
    "import joblib\n",
    "GOOGLE_MODELS_SAVED = GOOGLE_DRIVE_PATH + '/SavedModels/MLP'"
   ]
  },
  {
   "cell_type": "markdown",
   "metadata": {
    "id": "R-x0jZZ3Yk2F"
   },
   "source": [
    "### Preprocessed Data\n",
    "\n",
    "HiggsPreprocessedData.csv is the training data which was preprocessed in EDA_HiggsDetection.ipynb file and stored in csv format. This has all the features including target variable 'class'.\n",
    "\n",
    "*This preprocessed training data is inturn split into training and validation data (10%) to evaluate the model*\n",
    "\n",
    "Test data is introduced only to text on the best model "
   ]
  },
  {
   "cell_type": "code",
   "execution_count": 7,
   "metadata": {
    "colab": {
     "base_uri": "https://localhost:8080/"
    },
    "executionInfo": {
     "elapsed": 1517,
     "status": "ok",
     "timestamp": 1652004852200,
     "user": {
      "displayName": "Asha G",
      "userId": "11159914543598210133"
     },
     "user_tz": -60
    },
    "id": "8HpXCspyMyQx",
    "outputId": "477d872c-09b6-4173-cccb-d5d0e46fce75"
   },
   "outputs": [
    {
     "data": {
      "text/plain": [
       "(77006, 29)"
      ]
     },
     "execution_count": 7,
     "metadata": {},
     "output_type": "execute_result"
    }
   ],
   "source": [
    "higgs_df_train = pd.read_csv(GOOGLE_DRIVE_PATH + '/HiggsPreprocessedData.csv')\n",
    "higgs_df_train.shape"
   ]
  },
  {
   "cell_type": "code",
   "execution_count": 8,
   "metadata": {
    "executionInfo": {
     "elapsed": 276,
     "status": "ok",
     "timestamp": 1652004852474,
     "user": {
      "displayName": "Asha G",
      "userId": "11159914543598210133"
     },
     "user_tz": -60
    },
    "id": "7zcHQMoLNAiF"
   },
   "outputs": [],
   "source": [
    "y_train = higgs_df_train['class']\n",
    "X_train = higgs_df_train.drop(columns='class')"
   ]
  },
  {
   "cell_type": "code",
   "execution_count": 9,
   "metadata": {
    "executionInfo": {
     "elapsed": 3,
     "status": "ok",
     "timestamp": 1652004852474,
     "user": {
      "displayName": "Asha G",
      "userId": "11159914543598210133"
     },
     "user_tz": -60
    },
    "id": "qyhG94yyPbdR"
   },
   "outputs": [],
   "source": [
    "X_train, X_val, y_train, y_val = train_test_split(X_train, y_train, test_size = 0.10)"
   ]
  },
  {
   "cell_type": "code",
   "execution_count": 45,
   "metadata": {
    "colab": {
     "base_uri": "https://localhost:8080/"
    },
    "executionInfo": {
     "elapsed": 2,
     "status": "ok",
     "timestamp": 1651993967990,
     "user": {
      "displayName": "Asha G",
      "userId": "11159914543598210133"
     },
     "user_tz": -60
    },
    "id": "SFGj2VbjPw00",
    "outputId": "9776404b-74ca-4a7b-860f-22e875f60ea6"
   },
   "outputs": [
    {
     "data": {
      "text/plain": [
       "(56136, 28)"
      ]
     },
     "execution_count": 45,
     "metadata": {},
     "output_type": "execute_result"
    }
   ],
   "source": [
    "X_train.shape"
   ]
  },
  {
   "cell_type": "markdown",
   "metadata": {
    "id": "7ruWs5BeaGFA"
   },
   "source": [
    "### Basic Model\n",
    "\n",
    "A Basic model to understand the computational time and expense is created below with hidden_layer_size = 2.\n",
    "\n",
    "On training the model with train data, the model is evaluated with validation data"
   ]
  },
  {
   "cell_type": "code",
   "execution_count": 24,
   "metadata": {
    "colab": {
     "base_uri": "https://localhost:8080/"
    },
    "executionInfo": {
     "elapsed": 17876,
     "status": "ok",
     "timestamp": 1651993103395,
     "user": {
      "displayName": "Asha G",
      "userId": "11159914543598210133"
     },
     "user_tz": -60
    },
    "id": "5mDGaLOEdXcn",
    "outputId": "654427bd-52e1-4d99-f0ab-40bd74ca37d4"
   },
   "outputs": [
    {
     "name": "stdout",
     "output_type": "stream",
     "text": [
      "MLP Classifier trained :\n",
      "Accuracy : \n",
      "0.6531619270224646\n",
      "Validation set results : \n",
      "              precision    recall  f1-score   support\n",
      "\n",
      "           0       0.65      0.54      0.59      3573\n",
      "           1       0.65      0.75      0.70      4128\n",
      "\n",
      "    accuracy                           0.65      7701\n",
      "   macro avg       0.65      0.65      0.64      7701\n",
      "weighted avg       0.65      0.65      0.65      7701\n",
      "\n"
     ]
    }
   ],
   "source": [
    "MLPClf_ = MLPClassifier(hidden_layer_sizes=2).fit(X_train, y_train)\n",
    "print('MLP Classifier trained :')\n",
    "\n",
    "y_preds=MLPClf_.predict(X_val)\n",
    "print('Accuracy : ')\n",
    "print(MLPClf_.score(X_val, y_val))\n",
    "print('Validation set results : ')\n",
    "print(classification_report(y_val, y_preds))"
   ]
  },
  {
   "cell_type": "code",
   "execution_count": 33,
   "metadata": {
    "colab": {
     "base_uri": "https://localhost:8080/"
    },
    "executionInfo": {
     "elapsed": 32940,
     "status": "ok",
     "timestamp": 1651993670825,
     "user": {
      "displayName": "Asha G",
      "userId": "11159914543598210133"
     },
     "user_tz": -60
    },
    "id": "v6YaaOS7XwZG",
    "outputId": "2904d088-e5d5-4cf6-ae98-8510ea61eeb4"
   },
   "outputs": [
    {
     "name": "stdout",
     "output_type": "stream",
     "text": [
      "MLP Classifier trained with hidden layers nodes : 5, Activation function : logistic\n"
     ]
    },
    {
     "name": "stderr",
     "output_type": "stream",
     "text": [
      "/usr/local/lib/python3.7/dist-packages/sklearn/neural_network/_multilayer_perceptron.py:696: ConvergenceWarning: Stochastic Optimizer: Maximum iterations (200) reached and the optimization hasn't converged yet.\n",
      "  ConvergenceWarning,\n"
     ]
    }
   ],
   "source": [
    "clf_1 = MLPClassifier( hidden_layer_sizes= 2, activation='logistic', random_state = 20)\n",
    "\n",
    "MLPClf_3 = clf_1.fit(X_train, y_train)\n",
    "\n",
    "print('MLP Classifier trained with hidden layers nodes : 5, Activation function : logistic')"
   ]
  },
  {
   "cell_type": "code",
   "execution_count": 34,
   "metadata": {
    "colab": {
     "base_uri": "https://localhost:8080/"
    },
    "executionInfo": {
     "elapsed": 23,
     "status": "ok",
     "timestamp": 1651993670825,
     "user": {
      "displayName": "Asha G",
      "userId": "11159914543598210133"
     },
     "user_tz": -60
    },
    "id": "uKaT_gL7Y_CD",
    "outputId": "bb7cd3b5-d367-4288-e335-0fc640961fe0"
   },
   "outputs": [
    {
     "name": "stdout",
     "output_type": "stream",
     "text": [
      "Accuracy : \n",
      "0.6695234385144786\n",
      "Validation set results with with hidden layers nodes : 5, Activation function : logistic  \n",
      "              precision    recall  f1-score   support\n",
      "\n",
      "           0       0.65      0.62      0.64      3573\n",
      "           1       0.69      0.71      0.70      4128\n",
      "\n",
      "    accuracy                           0.67      7701\n",
      "   macro avg       0.67      0.67      0.67      7701\n",
      "weighted avg       0.67      0.67      0.67      7701\n",
      "\n"
     ]
    }
   ],
   "source": [
    "y_preds1=MLPClf_3.predict(X_val)\n",
    "print('Accuracy : ')\n",
    "print(MLPClf_3.score(X_val, y_val))\n",
    "print('Validation set results with with hidden layers nodes : 5, Activation function : logistic  ')\n",
    "print(classification_report(y_val, y_preds1))"
   ]
  },
  {
   "cell_type": "code",
   "execution_count": null,
   "metadata": {
    "colab": {
     "base_uri": "https://localhost:8080/"
    },
    "executionInfo": {
     "elapsed": 59540,
     "status": "ok",
     "timestamp": 1651790779775,
     "user": {
      "displayName": "Asha G",
      "userId": "11159914543598210133"
     },
     "user_tz": -60
    },
    "id": "OpeByi6ZZNdd",
    "outputId": "107ab0f2-49d1-4023-f2bd-e587aefbd334"
   },
   "outputs": [
    {
     "name": "stdout",
     "output_type": "stream",
     "text": [
      "MLP Classifier trained with hidden layers : 5, Activation function : relu, random state = 20\n"
     ]
    },
    {
     "name": "stderr",
     "output_type": "stream",
     "text": [
      "/usr/local/lib/python3.7/dist-packages/sklearn/neural_network/_multilayer_perceptron.py:696: ConvergenceWarning: Stochastic Optimizer: Maximum iterations (200) reached and the optimization hasn't converged yet.\n",
      "  ConvergenceWarning,\n"
     ]
    }
   ],
   "source": [
    "clf_2 = MLPClassifier(random_state=20, hidden_layer_sizes=5, activation='relu')\n",
    "\n",
    "MLPClf_4 = clf_2.fit(X_train, y_train)\n",
    "\n",
    "print('MLP Classifier trained with hidden layers : 5, Activation function : relu, random state = 20')"
   ]
  },
  {
   "cell_type": "code",
   "execution_count": null,
   "metadata": {
    "colab": {
     "base_uri": "https://localhost:8080/"
    },
    "executionInfo": {
     "elapsed": 4,
     "status": "ok",
     "timestamp": 1651790780331,
     "user": {
      "displayName": "Asha G",
      "userId": "11159914543598210133"
     },
     "user_tz": -60
    },
    "id": "NR0RE0IxZis7",
    "outputId": "35fd936f-be5c-4f09-85d5-147a195be7af"
   },
   "outputs": [
    {
     "name": "stdout",
     "output_type": "stream",
     "text": [
      "Accuracy : \n",
      "0.6768831168831169\n",
      "Validation set results with 2 Hidden layers : \n",
      "              precision    recall  f1-score   support\n",
      "\n",
      "           0       0.66      0.62      0.64      2663\n",
      "           1       0.69      0.73      0.71      3112\n",
      "\n",
      "    accuracy                           0.68      5775\n",
      "   macro avg       0.67      0.67      0.67      5775\n",
      "weighted avg       0.68      0.68      0.68      5775\n",
      "\n"
     ]
    }
   ],
   "source": [
    "y_preds2=MLPClf_4.predict(X_val)\n",
    "print('Accuracy : ')\n",
    "print(MLPClf_4.score(X_val, y_val))\n",
    "print('Validation set results with 2 Hidden layers : ')\n",
    "print(classification_report(y_val, y_preds2))"
   ]
  },
  {
   "cell_type": "markdown",
   "metadata": {
    "id": "0bewiKfZ3FeU"
   },
   "source": [
    "### Grid Search for Ativation function\n",
    "\n",
    "A grid search is performed on activation function to identify the best activation for this dataset. GridSearchCV() in sklearner is an existing library that can be used to tune the parameter."
   ]
  },
  {
   "cell_type": "code",
   "execution_count": null,
   "metadata": {
    "colab": {
     "base_uri": "https://localhost:8080/"
    },
    "executionInfo": {
     "elapsed": 895780,
     "status": "ok",
     "timestamp": 1651804872188,
     "user": {
      "displayName": "Asha G",
      "userId": "11159914543598210133"
     },
     "user_tz": -60
    },
    "id": "Fj2RqYVbZpa3",
    "outputId": "efe1ed94-b87e-4043-a88e-79a9011690e9"
   },
   "outputs": [
    {
     "name": "stdout",
     "output_type": "stream",
     "text": [
      "Fitting 5 folds for each of 3 candidates, totalling 15 fits\n"
     ]
    },
    {
     "name": "stderr",
     "output_type": "stream",
     "text": [
      "/usr/local/lib/python3.7/dist-packages/sklearn/neural_network/_multilayer_perceptron.py:696: ConvergenceWarning: Stochastic Optimizer: Maximum iterations (200) reached and the optimization hasn't converged yet.\n",
      "  ConvergenceWarning,\n"
     ]
    }
   ],
   "source": [
    "parameters = {'activation' : ['logistic', 'relu', 'tanh']}\n",
    "\n",
    "clf3 = GridSearchCV(MLPClassifier(), parameters, n_jobs=-1, verbose=4).fit(X_train, y_train)\n"
   ]
  },
  {
   "cell_type": "code",
   "execution_count": null,
   "metadata": {
    "colab": {
     "base_uri": "https://localhost:8080/"
    },
    "executionInfo": {
     "elapsed": 771,
     "status": "ok",
     "timestamp": 1651804917425,
     "user": {
      "displayName": "Asha G",
      "userId": "11159914543598210133"
     },
     "user_tz": -60
    },
    "id": "trbsAv_QbI4K",
    "outputId": "c39ca687-8bff-44c2-d9e7-66f3e9398cd6"
   },
   "outputs": [
    {
     "name": "stdout",
     "output_type": "stream",
     "text": [
      "{'activation': 'logistic'}\n"
     ]
    }
   ],
   "source": [
    "print(clf3.best_params_)"
   ]
  },
  {
   "cell_type": "code",
   "execution_count": null,
   "metadata": {
    "colab": {
     "base_uri": "https://localhost:8080/"
    },
    "executionInfo": {
     "elapsed": 393,
     "status": "ok",
     "timestamp": 1651804932091,
     "user": {
      "displayName": "Asha G",
      "userId": "11159914543598210133"
     },
     "user_tz": -60
    },
    "id": "rWT4A2OIdCx5",
    "outputId": "0bac910a-a833-4187-b2c7-616cba48ef34"
   },
   "outputs": [
    {
     "data": {
      "text/plain": [
       "{'mean_fit_time': array([107.88673348,  84.08345866, 106.29938221]),\n",
       " 'mean_score_time': array([0.06941824, 0.02834787, 0.07051129]),\n",
       " 'mean_test_score': array([0.69443547, 0.69332718, 0.68707766]),\n",
       " 'param_activation': masked_array(data=['logistic', 'relu', 'tanh'],\n",
       "              mask=[False, False, False],\n",
       "        fill_value='?',\n",
       "             dtype=object),\n",
       " 'params': [{'activation': 'logistic'},\n",
       "  {'activation': 'relu'},\n",
       "  {'activation': 'tanh'}],\n",
       " 'rank_test_score': array([1, 2, 3], dtype=int32),\n",
       " 'split0_test_score': array([0.70376356, 0.69514354, 0.69606711]),\n",
       " 'split1_test_score': array([0.69160317, 0.69183406, 0.6882937 ]),\n",
       " 'split2_test_score': array([0.69291157, 0.69437389, 0.68190564]),\n",
       " 'split3_test_score': array([0.6880628 , 0.69460479, 0.68321404]),\n",
       " 'split4_test_score': array([0.69583622, 0.6906796 , 0.6859078 ]),\n",
       " 'std_fit_time': array([ 0.75909086,  1.55973135, 13.6399145 ]),\n",
       " 'std_score_time': array([0.00702866, 0.0026133 , 0.01221008]),\n",
       " 'std_test_score': array([0.00529019, 0.00174735, 0.00500669])}"
      ]
     },
     "execution_count": 24,
     "metadata": {},
     "output_type": "execute_result"
    }
   ],
   "source": [
    "result1 = clf3.cv_results_\n",
    "result1"
   ]
  },
  {
   "cell_type": "markdown",
   "metadata": {
    "id": "1WvTgRUk31Ad"
   },
   "source": [
    "**GRID SEARCH - 1 RESULTS**\n",
    "\n",
    "The result showed that logistic is the best activation function for this dataset, but when combined with other set of parameters we have to identify which is the best activation function and also hidden layer\n",
    "\n",
    "*We split the grid search because the data is huge, the search become very time consuming as the number of fits increases with many combinations are avaibale.*\n",
    "\n",
    "\n"
   ]
  },
  {
   "cell_type": "code",
   "execution_count": null,
   "metadata": {
    "colab": {
     "base_uri": "https://localhost:8080/"
    },
    "executionInfo": {
     "elapsed": 1369394,
     "status": "ok",
     "timestamp": 1651806660594,
     "user": {
      "displayName": "Asha G",
      "userId": "11159914543598210133"
     },
     "user_tz": -60
    },
    "id": "gOeRz4tedX9t",
    "outputId": "d0e2fe70-69f4-4130-ba7e-811e6707fc24"
   },
   "outputs": [
    {
     "name": "stdout",
     "output_type": "stream",
     "text": [
      "Fitting 5 folds for each of 8 candidates, totalling 40 fits\n",
      "{'activation': 'relu', 'hidden_layer_sizes': 50}\n"
     ]
    },
    {
     "name": "stderr",
     "output_type": "stream",
     "text": [
      "/usr/local/lib/python3.7/dist-packages/sklearn/neural_network/_multilayer_perceptron.py:696: ConvergenceWarning: Stochastic Optimizer: Maximum iterations (200) reached and the optimization hasn't converged yet.\n",
      "  ConvergenceWarning,\n"
     ]
    }
   ],
   "source": [
    "parameters = {  'hidden_layer_sizes': [10, 20, 50, 100], 'activation' : ['logistic', 'relu']}\n",
    "\n",
    "clf4 = GridSearchCV(MLPClassifier(), parameters, n_jobs=-1, verbose=4).fit(X_train, y_train)\n",
    "print(clf4.best_params_)"
   ]
  },
  {
   "cell_type": "code",
   "execution_count": null,
   "metadata": {
    "colab": {
     "base_uri": "https://localhost:8080/"
    },
    "executionInfo": {
     "elapsed": 2,
     "status": "ok",
     "timestamp": 1651806661650,
     "user": {
      "displayName": "Asha G",
      "userId": "11159914543598210133"
     },
     "user_tz": -60
    },
    "id": "WzXQDFR4DzHx",
    "outputId": "d7491819-812f-4319-a42c-415c012cd5d0"
   },
   "outputs": [
    {
     "data": {
      "text/plain": [
       "{'mean_fit_time': array([ 49.07641449,  60.05024347,  72.43873796, 102.13406796,\n",
       "         42.83842516,  47.89261079,  60.37309618,  74.67126994]),\n",
       " 'mean_score_time': array([0.01353493, 0.02847543, 0.03616247, 0.0643549 , 0.00904212,\n",
       "        0.01092434, 0.01723175, 0.02626619]),\n",
       " 'mean_test_score': array([0.683291  , 0.68946356, 0.68830909, 0.69243439, 0.68874009,\n",
       "        0.69586701, 0.6969599 , 0.69209574]),\n",
       " 'param_activation': masked_array(data=['logistic', 'logistic', 'logistic', 'logistic', 'relu',\n",
       "                    'relu', 'relu', 'relu'],\n",
       "              mask=[False, False, False, False, False, False, False, False],\n",
       "        fill_value='?',\n",
       "             dtype=object),\n",
       " 'param_hidden_layer_sizes': masked_array(data=[10, 20, 50, 100, 10, 20, 50, 100],\n",
       "              mask=[False, False, False, False, False, False, False, False],\n",
       "        fill_value='?',\n",
       "             dtype=object),\n",
       " 'params': [{'activation': 'logistic', 'hidden_layer_sizes': 10},\n",
       "  {'activation': 'logistic', 'hidden_layer_sizes': 20},\n",
       "  {'activation': 'logistic', 'hidden_layer_sizes': 50},\n",
       "  {'activation': 'logistic', 'hidden_layer_sizes': 100},\n",
       "  {'activation': 'relu', 'hidden_layer_sizes': 10},\n",
       "  {'activation': 'relu', 'hidden_layer_sizes': 20},\n",
       "  {'activation': 'relu', 'hidden_layer_sizes': 50},\n",
       "  {'activation': 'relu', 'hidden_layer_sizes': 100}],\n",
       " 'rank_test_score': array([8, 5, 7, 3, 6, 2, 1, 4], dtype=int32),\n",
       " 'split0_test_score': array([0.6917571 , 0.69475872, 0.69506657, 0.70114677, 0.69160317,\n",
       "        0.69352728, 0.7002232 , 0.69645194]),\n",
       " 'split1_test_score': array([0.68205957, 0.68575387, 0.68552297, 0.68513815, 0.68752405,\n",
       "        0.69098745, 0.69806819, 0.6869853 ]),\n",
       " 'split2_test_score': array([0.68306011, 0.69106442, 0.6893712 , 0.69129531, 0.68660048,\n",
       "        0.69876087, 0.69876087, 0.69160317]),\n",
       " 'split3_test_score': array([0.67705688, 0.68875548, 0.68429154, 0.68890941, 0.68575387,\n",
       "        0.69729855, 0.68967906, 0.69221889]),\n",
       " 'split4_test_score': array([0.68252136, 0.6869853 , 0.68729316, 0.69568229, 0.69221889,\n",
       "        0.69876087, 0.69806819, 0.69321943]),\n",
       " 'std_fit_time': array([4.75617058, 5.01181014, 0.49296561, 0.4692361 , 1.55719781,\n",
       "        0.25983617, 0.15828078, 9.40225158]),\n",
       " 'std_score_time': array([0.00057265, 0.01151204, 0.0011906 , 0.00291598, 0.000336  ,\n",
       "        0.00087551, 0.00056326, 0.00349956]),\n",
       " 'std_test_score': array([0.00474766, 0.00319394, 0.00378753, 0.00553918, 0.00265607,\n",
       "        0.00310105, 0.00372451, 0.00305331])}"
      ]
     },
     "execution_count": 26,
     "metadata": {},
     "output_type": "execute_result"
    }
   ],
   "source": [
    "result2 = clf4.cv_results_\n",
    "result2"
   ]
  },
  {
   "cell_type": "markdown",
   "metadata": {
    "id": "if513Cue4ccP"
   },
   "source": [
    "**GRID SEARCH - 2 RESULTS**\n",
    "\n",
    "*On combining activation function and hidden layers, it can be observed that activation : relu and hidden layers nodes : 50 gives a better result*\n",
    "\n",
    "Further performing grid search with multi layerd hidden layers to see if the accuracy of validation set increases. Again activation is given both logistic and relu for grid search to identify the best parameter as in the previous runs one gave logistic and other gave relu\n"
   ]
  },
  {
   "cell_type": "code",
   "execution_count": null,
   "metadata": {
    "colab": {
     "base_uri": "https://localhost:8080/"
    },
    "executionInfo": {
     "elapsed": 2808932,
     "status": "ok",
     "timestamp": 1651915237094,
     "user": {
      "displayName": "Asha G",
      "userId": "11159914543598210133"
     },
     "user_tz": -60
    },
    "id": "dY3gyjiefCZE",
    "outputId": "e9b2476f-ee87-4056-8cd6-094b96d7296d"
   },
   "outputs": [
    {
     "name": "stdout",
     "output_type": "stream",
     "text": [
      "Fitting 5 folds for each of 16 candidates, totalling 80 fits\n",
      "{'activation': 'relu', 'hidden_layer_sizes': (25, 35)}\n"
     ]
    },
    {
     "name": "stderr",
     "output_type": "stream",
     "text": [
      "/usr/local/lib/python3.7/dist-packages/sklearn/neural_network/_multilayer_perceptron.py:696: ConvergenceWarning: Stochastic Optimizer: Maximum iterations (200) reached and the optimization hasn't converged yet.\n",
      "  ConvergenceWarning,\n"
     ]
    },
    {
     "data": {
      "text/plain": [
       "['drive/My Drive/ColabNotebooks/NN/CourseWork/HiggsDetection_NeuralComputing/SavedModels/MLP/clf_5_1_hidden_and_nodes.pkl']"
      ]
     },
     "execution_count": 135,
     "metadata": {},
     "output_type": "execute_result"
    }
   ],
   "source": [
    "parameters = {  'hidden_layer_sizes': [5 , (5, 30), 10, (10, 30), 25 , (25, 35) , 50, 100], 'activation' : ['logistic', 'relu']}\n",
    "# parameters = {'activation' : ['logistic', 'relu', 'tanh']}\n",
    "\n",
    "clf_5_1 = GridSearchCV(MLPClassifier(), parameters, n_jobs=-1, verbose=4).fit(X_train, y_train)\n",
    "print(clf_5_1.best_params_)\n",
    "\n",
    "joblib.dump(clf_5_1, GOOGLE_MODELS_SAVED + '/clf_5_1_hidden_and_nodes.pkl')"
   ]
  },
  {
   "cell_type": "code",
   "execution_count": null,
   "metadata": {
    "colab": {
     "base_uri": "https://localhost:8080/"
    },
    "executionInfo": {
     "elapsed": 169,
     "status": "ok",
     "timestamp": 1651915287410,
     "user": {
      "displayName": "Asha G",
      "userId": "11159914543598210133"
     },
     "user_tz": -60
    },
    "id": "U0btZbt-pnTB",
    "outputId": "f10b13f6-cce4-42e3-fab9-acb16037d102"
   },
   "outputs": [
    {
     "data": {
      "text/plain": [
       "{'mean_fit_time': array([ 48.44974761,  71.96911707,  48.34943953,  76.28526993,\n",
       "         58.39257383,  90.89141831,  73.60890355, 105.32863612,\n",
       "         28.12802196,  66.40368104,  46.74141932,  70.66350675,\n",
       "         58.30057931,  88.64038324,  69.88222361,  82.09790931]),\n",
       " 'mean_score_time': array([0.01270595, 0.03076129, 0.01482687, 0.03579006, 0.02375202,\n",
       "        0.04776564, 0.04050307, 0.07368007, 0.00958476, 0.01975927,\n",
       "        0.01110468, 0.02292967, 0.01710653, 0.03337393, 0.02484856,\n",
       "        0.03448677]),\n",
       " 'mean_test_score': array([0.68267529, 0.67965828, 0.68773955, 0.68592319, 0.68889402,\n",
       "        0.69100285, 0.68955591, 0.6893712 , 0.67126914, 0.69974602,\n",
       "        0.68384515, 0.70188563, 0.69526668, 0.70625722, 0.69528207,\n",
       "        0.69051027]),\n",
       " 'param_activation': masked_array(data=['logistic', 'logistic', 'logistic', 'logistic',\n",
       "                    'logistic', 'logistic', 'logistic', 'logistic', 'relu',\n",
       "                    'relu', 'relu', 'relu', 'relu', 'relu', 'relu', 'relu'],\n",
       "              mask=[False, False, False, False, False, False, False, False,\n",
       "                    False, False, False, False, False, False, False, False],\n",
       "        fill_value='?',\n",
       "             dtype=object),\n",
       " 'param_hidden_layer_sizes': masked_array(data=[5, (5, 30), 10, (10, 30), 25, (25, 35), 50, 100, 5,\n",
       "                    (5, 30), 10, (10, 30), 25, (25, 35), 50, 100],\n",
       "              mask=[False, False, False, False, False, False, False, False,\n",
       "                    False, False, False, False, False, False, False, False],\n",
       "        fill_value='?',\n",
       "             dtype=object),\n",
       " 'params': [{'activation': 'logistic', 'hidden_layer_sizes': 5},\n",
       "  {'activation': 'logistic', 'hidden_layer_sizes': (5, 30)},\n",
       "  {'activation': 'logistic', 'hidden_layer_sizes': 10},\n",
       "  {'activation': 'logistic', 'hidden_layer_sizes': (10, 30)},\n",
       "  {'activation': 'logistic', 'hidden_layer_sizes': 25},\n",
       "  {'activation': 'logistic', 'hidden_layer_sizes': (25, 35)},\n",
       "  {'activation': 'logistic', 'hidden_layer_sizes': 50},\n",
       "  {'activation': 'logistic', 'hidden_layer_sizes': 100},\n",
       "  {'activation': 'relu', 'hidden_layer_sizes': 5},\n",
       "  {'activation': 'relu', 'hidden_layer_sizes': (5, 30)},\n",
       "  {'activation': 'relu', 'hidden_layer_sizes': 10},\n",
       "  {'activation': 'relu', 'hidden_layer_sizes': (10, 30)},\n",
       "  {'activation': 'relu', 'hidden_layer_sizes': 25},\n",
       "  {'activation': 'relu', 'hidden_layer_sizes': (25, 35)},\n",
       "  {'activation': 'relu', 'hidden_layer_sizes': 50},\n",
       "  {'activation': 'relu', 'hidden_layer_sizes': 100}],\n",
       " 'rank_test_score': array([14, 15, 11, 12, 10,  6,  8,  9, 16,  3, 13,  2,  5,  1,  4,  7],\n",
       "       dtype=int32),\n",
       " 'split0_test_score': array([0.68667744, 0.67567152, 0.68644655, 0.68906334, 0.69506657,\n",
       "        0.70137766, 0.69799123, 0.69614408, 0.64896483, 0.70453321,\n",
       "        0.67990456, 0.70561071, 0.69460479, 0.70461017, 0.69876087,\n",
       "        0.6882937 ]),\n",
       " 'split1_test_score': array([0.67928885, 0.68382975, 0.6869853 , 0.683291  , 0.68375279,\n",
       "        0.68983299, 0.69021781, 0.69129531, 0.68367583, 0.69806819,\n",
       "        0.68767798, 0.70106981, 0.69114138, 0.70930501, 0.68667744,\n",
       "        0.69191103]),\n",
       " 'split2_test_score': array([0.68467636, 0.66989918, 0.68713923, 0.68406065, 0.68990995,\n",
       "        0.68544601, 0.68713923, 0.68729316, 0.66959132, 0.70168552,\n",
       "        0.68252136, 0.70407142, 0.70076195, 0.71045948, 0.69991534,\n",
       "        0.69152621]),\n",
       " 'split3_test_score': array([0.68044332, 0.68275225, 0.69006388, 0.6856769 , 0.68944816,\n",
       "        0.68683137, 0.68636958, 0.68421458, 0.67382437, 0.69629801,\n",
       "        0.68513815, 0.69845301, 0.68898638, 0.70360964, 0.69614408,\n",
       "        0.69083353]),\n",
       " 'split4_test_score': array([0.68229046, 0.68613869, 0.6880628 , 0.68752405, 0.68629262,\n",
       "        0.69152621, 0.68606173, 0.68790887, 0.68028939, 0.69814516,\n",
       "        0.68398368, 0.7002232 , 0.70083891, 0.70330178, 0.69491265,\n",
       "        0.68998692]),\n",
       " 'std_fit_time': array([ 1.68392092,  1.07631875,  0.61161379,  0.7731899 ,  0.89975652,\n",
       "         0.51610048,  0.28815459,  1.29158689, 10.40385579,  0.91122254,\n",
       "         0.5632603 ,  4.07842092,  2.61351735,  4.50674765,  1.58408085,\n",
       "        14.13293896]),\n",
       " 'std_score_time': array([0.00182973, 0.00310499, 0.00023393, 0.00500297, 0.00018315,\n",
       "        0.00139235, 0.00089777, 0.00621745, 0.00041541, 0.00226164,\n",
       "        0.00015752, 0.00523047, 0.00292106, 0.00916144, 0.00360793,\n",
       "        0.00632059]),\n",
       " 'std_test_score': array([0.00270626, 0.00600173, 0.00127343, 0.00213923, 0.00381154,\n",
       "        0.00561354, 0.00446755, 0.00406501, 0.01218292, 0.00296464,\n",
       "        0.0025947 , 0.00260254, 0.00486099, 0.00301347, 0.00465808,\n",
       "        0.00128731])}"
      ]
     },
     "execution_count": 136,
     "metadata": {},
     "output_type": "execute_result"
    }
   ],
   "source": [
    "result3 = clf_5_1.cv_results_\n",
    "result3"
   ]
  },
  {
   "cell_type": "markdown",
   "metadata": {
    "id": "9aJ_3TFK5mh-"
   },
   "source": [
    "### BEST PARAMETERS - 1\n",
    "\n",
    "*The best parameters after tuning is observed to be 2 hidden layers of each having 25 and 35 nodes and activation function as 'relu'*\n",
    "\n",
    "*Going forword we will be working with relu as activation function*\n",
    "\n",
    "\n",
    "A model is trained and fit with these parameters and validated with the validation set. the previous two grid searchs resulted in two results, one was one layer with 50 nodes, other best hidden layer is two layers with 25, 30 nodes respectively, so performing cross validation with these parameters to yeild better results"
   ]
  },
  {
   "cell_type": "code",
   "execution_count": null,
   "metadata": {
    "colab": {
     "base_uri": "https://localhost:8080/"
    },
    "executionInfo": {
     "elapsed": 71697,
     "status": "ok",
     "timestamp": 1651915617472,
     "user": {
      "displayName": "Asha G",
      "userId": "11159914543598210133"
     },
     "user_tz": -60
    },
    "id": "_Ahf-hd21FEw",
    "outputId": "fc17501f-8aaf-4178-bfa6-0a89d2fc9000"
   },
   "outputs": [
    {
     "name": "stdout",
     "output_type": "stream",
     "text": [
      "Accuracy : \n",
      "0.7110403102922842\n",
      "Validation set results with 2 Hidden layers : \n",
      "              precision    recall  f1-score   support\n",
      "\n",
      "           0       0.70      0.65      0.68      3350\n",
      "           1       0.72      0.76      0.74      3869\n",
      "\n",
      "    accuracy                           0.71      7219\n",
      "   macro avg       0.71      0.71      0.71      7219\n",
      "weighted avg       0.71      0.71      0.71      7219\n",
      "\n"
     ]
    },
    {
     "name": "stderr",
     "output_type": "stream",
     "text": [
      "/usr/local/lib/python3.7/dist-packages/sklearn/neural_network/_multilayer_perceptron.py:696: ConvergenceWarning: Stochastic Optimizer: Maximum iterations (200) reached and the optimization hasn't converged yet.\n",
      "  ConvergenceWarning,\n"
     ]
    }
   ],
   "source": [
    "MLPClf_51 = MLPClassifier(hidden_layer_sizes = (25, 35), activation = 'relu').fit(X_train, y_train)\n",
    "\n",
    "y_preds3=MLPClf_51.predict(X_val)\n",
    "print('Accuracy : ')\n",
    "print(MLPClf_51.score(X_val, y_val))\n",
    "print('Validation set results with 2 Hidden layers : ')\n",
    "print(classification_report(y_val, y_preds3))"
   ]
  },
  {
   "cell_type": "code",
   "execution_count": null,
   "metadata": {
    "colab": {
     "base_uri": "https://localhost:8080/"
    },
    "executionInfo": {
     "elapsed": 255734,
     "status": "ok",
     "timestamp": 1651915965813,
     "user": {
      "displayName": "Asha G",
      "userId": "11159914543598210133"
     },
     "user_tz": -60
    },
    "id": "qu__OV9b2LGT",
    "outputId": "e4df6658-914d-4322-99bd-b2860be8d011"
   },
   "outputs": [
    {
     "name": "stderr",
     "output_type": "stream",
     "text": [
      "/usr/local/lib/python3.7/dist-packages/sklearn/neural_network/_multilayer_perceptron.py:696: ConvergenceWarning: Stochastic Optimizer: Maximum iterations (200) reached and the optimization hasn't converged yet.\n",
      "  ConvergenceWarning,\n",
      "/usr/local/lib/python3.7/dist-packages/sklearn/neural_network/_multilayer_perceptron.py:696: ConvergenceWarning: Stochastic Optimizer: Maximum iterations (200) reached and the optimization hasn't converged yet.\n",
      "  ConvergenceWarning,\n",
      "/usr/local/lib/python3.7/dist-packages/sklearn/neural_network/_multilayer_perceptron.py:696: ConvergenceWarning: Stochastic Optimizer: Maximum iterations (200) reached and the optimization hasn't converged yet.\n",
      "  ConvergenceWarning,\n",
      "/usr/local/lib/python3.7/dist-packages/sklearn/neural_network/_multilayer_perceptron.py:696: ConvergenceWarning: Stochastic Optimizer: Maximum iterations (200) reached and the optimization hasn't converged yet.\n",
      "  ConvergenceWarning,\n",
      "/usr/local/lib/python3.7/dist-packages/sklearn/neural_network/_multilayer_perceptron.py:696: ConvergenceWarning: Stochastic Optimizer: Maximum iterations (200) reached and the optimization hasn't converged yet.\n",
      "  ConvergenceWarning,\n"
     ]
    },
    {
     "data": {
      "text/plain": [
       "array([0.70822751, 0.70245517, 0.70430232, 0.70337874, 0.70599554])"
      ]
     },
     "execution_count": 139,
     "metadata": {},
     "output_type": "execute_result"
    }
   ],
   "source": [
    "MPL_cv_scores_51 = cross_val_score(MLPClf_51, X_train, y_train, cv=5)\n",
    "\n",
    "MPL_cv_scores_51"
   ]
  },
  {
   "cell_type": "markdown",
   "metadata": {
    "id": "EusEcbZ-FdkE"
   },
   "source": [
    "The best set of parameters\n",
    " at {'activation': 'relu', 'hidden_layer_sizes': 50}"
   ]
  },
  {
   "cell_type": "code",
   "execution_count": null,
   "metadata": {
    "colab": {
     "base_uri": "https://localhost:8080/"
    },
    "executionInfo": {
     "elapsed": 73471,
     "status": "ok",
     "timestamp": 1651836155389,
     "user": {
      "displayName": "Asha G",
      "userId": "11159914543598210133"
     },
     "user_tz": -60
    },
    "id": "_0w_XKh8R5-I",
    "outputId": "743a97c8-9553-400c-ceda-b80953c76d6f"
   },
   "outputs": [
    {
     "name": "stdout",
     "output_type": "stream",
     "text": [
      "Accuracy : \n",
      "0.7027289098213049\n",
      "Validation set results with 2 Hidden layers : \n",
      "              precision    recall  f1-score   support\n",
      "\n",
      "           0       0.69      0.65      0.67      3350\n",
      "           1       0.71      0.75      0.73      3869\n",
      "\n",
      "    accuracy                           0.70      7219\n",
      "   macro avg       0.70      0.70      0.70      7219\n",
      "weighted avg       0.70      0.70      0.70      7219\n",
      "\n"
     ]
    }
   ],
   "source": [
    "# best_param_ = {'activation': 'relu', 'hidden_layer_sizes': 50}\n",
    "\n",
    "MLPClf_5 = MLPClassifier(hidden_layer_sizes = 50, activation = 'relu').fit(X_train, y_train)\n",
    "\n",
    "y_preds3=MLPClf_5.predict(X_val)\n",
    "print('Accuracy : ')\n",
    "print(MLPClf_5.score(X_val, y_val))\n",
    "print('Validation set results with 2 Hidden layers : ')\n",
    "print(classification_report(y_val, y_preds3))"
   ]
  },
  {
   "cell_type": "code",
   "execution_count": null,
   "metadata": {
    "colab": {
     "base_uri": "https://localhost:8080/"
    },
    "executionInfo": {
     "elapsed": 341745,
     "status": "ok",
     "timestamp": 1651836700226,
     "user": {
      "displayName": "Asha G",
      "userId": "11159914543598210133"
     },
     "user_tz": -60
    },
    "id": "rkDdKnRpGQ_Q",
    "outputId": "6531e5e7-ad52-4af3-848e-1ddcd38234ca"
   },
   "outputs": [
    {
     "name": "stderr",
     "output_type": "stream",
     "text": [
      "/usr/local/lib/python3.7/dist-packages/sklearn/neural_network/_multilayer_perceptron.py:696: ConvergenceWarning: Stochastic Optimizer: Maximum iterations (200) reached and the optimization hasn't converged yet.\n",
      "  ConvergenceWarning,\n",
      "/usr/local/lib/python3.7/dist-packages/sklearn/neural_network/_multilayer_perceptron.py:696: ConvergenceWarning: Stochastic Optimizer: Maximum iterations (200) reached and the optimization hasn't converged yet.\n",
      "  ConvergenceWarning,\n",
      "/usr/local/lib/python3.7/dist-packages/sklearn/neural_network/_multilayer_perceptron.py:696: ConvergenceWarning: Stochastic Optimizer: Maximum iterations (200) reached and the optimization hasn't converged yet.\n",
      "  ConvergenceWarning,\n",
      "/usr/local/lib/python3.7/dist-packages/sklearn/neural_network/_multilayer_perceptron.py:696: ConvergenceWarning: Stochastic Optimizer: Maximum iterations (200) reached and the optimization hasn't converged yet.\n",
      "  ConvergenceWarning,\n",
      "/usr/local/lib/python3.7/dist-packages/sklearn/neural_network/_multilayer_perceptron.py:696: ConvergenceWarning: Stochastic Optimizer: Maximum iterations (200) reached and the optimization hasn't converged yet.\n",
      "  ConvergenceWarning,\n"
     ]
    },
    {
     "data": {
      "text/plain": [
       "array([0.68429154, 0.69614408, 0.69622104, 0.6989148 , 0.69645194])"
      ]
     },
     "execution_count": 11,
     "metadata": {},
     "output_type": "execute_result"
    }
   ],
   "source": [
    "MPL_cv_scores_1 = cross_val_score(MLPClf_5, X_train, y_train, cv=5)\n",
    "\n",
    "MPL_cv_scores_1"
   ]
  },
  {
   "cell_type": "markdown",
   "metadata": {
    "id": "6LRn-loh7CgK"
   },
   "source": [
    "**It can be observed that two hidden layer with 25, 30 nodes respectively with relu activation function gives better result**"
   ]
  },
  {
   "cell_type": "markdown",
   "metadata": {
    "id": "Ee7Sz9omUFhn"
   },
   "source": [
    "### Standerdiseing Data for PCA\n",
    "\n",
    "*Ref : https://towardsdatascience.com/pca-using-python-scikit-learn-e653f8989e60*\n",
    "\n",
    "*Ref : https://scikit-learn.org/stable/modules/generated/sklearn.decomposition.PCA.html*\n",
    "\n",
    "\n",
    "It is a good practice to standerdise data before performing MLP, and also in an aim to improve performance a principal component analysis is done on the training set with different coverage (0.95, 0.97, 0.99) of attributes. Also models are evaluated  with standerdised PCA and without standerdised PCA with hidden layers (25, 25) and activation function relu"
   ]
  },
  {
   "cell_type": "code",
   "execution_count": null,
   "metadata": {
    "id": "KPnSwqZhHo13"
   },
   "outputs": [],
   "source": [
    "scaler = StandardScaler()\n",
    "# Fit on training set only.\n",
    "scaler.fit(X_train)\n",
    "# Apply transform to both the training set and the test set.\n",
    "train_scaler = scaler.transform(X_train)"
   ]
  },
  {
   "cell_type": "code",
   "execution_count": null,
   "metadata": {
    "colab": {
     "base_uri": "https://localhost:8080/"
    },
    "executionInfo": {
     "elapsed": 197,
     "status": "ok",
     "timestamp": 1651841665726,
     "user": {
      "displayName": "Asha G",
      "userId": "11159914543598210133"
     },
     "user_tz": -60
    },
    "id": "HIsxfBTNb1i0",
    "outputId": "588affa9-2c8f-4ed0-ad47-6289ab470007"
   },
   "outputs": [
    {
     "data": {
      "text/plain": [
       "array([[ 1.03077323e+00, -6.31659065e-01,  5.55961714e-02, ...,\n",
       "         1.75612352e+00,  6.08805799e-01,  3.29194842e-01],\n",
       "       [ 5.48485343e-01,  1.14011025e+00,  1.15568781e+00, ...,\n",
       "        -5.98142196e-01, -6.46739946e-01, -8.31684074e-01],\n",
       "       [-6.24776559e-01,  6.54521429e-01, -1.25634733e+00, ...,\n",
       "        -5.71941778e-01, -9.65298216e-01, -7.91088968e-01],\n",
       "       ...,\n",
       "       [ 3.64270755e-01,  1.48578533e-01, -4.66153352e-01, ...,\n",
       "         9.62141612e-01,  9.30115098e-01,  4.97511467e-01],\n",
       "       [-6.99889707e-01, -1.60608771e-01,  3.56122487e-01, ...,\n",
       "         7.57223982e-04,  8.67932428e-01,  4.70681001e-01],\n",
       "       [-9.99662850e-01, -6.00643380e-01,  1.04319733e+00, ...,\n",
       "         2.05164122e-01,  1.51644239e-01, -1.04560114e-01]])"
      ]
     },
     "execution_count": 46,
     "metadata": {},
     "output_type": "execute_result"
    }
   ],
   "source": [
    "train_scaler"
   ]
  },
  {
   "cell_type": "code",
   "execution_count": null,
   "metadata": {
    "colab": {
     "base_uri": "https://localhost:8080/"
    },
    "executionInfo": {
     "elapsed": 275,
     "status": "ok",
     "timestamp": 1651841792285,
     "user": {
      "displayName": "Asha G",
      "userId": "11159914543598210133"
     },
     "user_tz": -60
    },
    "id": "4Ifb4LuyLjkV",
    "outputId": "7bfc33a4-8768-47e3-b0aa-ce8dcbd20bae"
   },
   "outputs": [
    {
     "data": {
      "text/plain": [
       "(64965, 23)"
      ]
     },
     "execution_count": 51,
     "metadata": {},
     "output_type": "execute_result"
    }
   ],
   "source": [
    "pca = PCA(.95)\n",
    "pca1 = pca.fit_transform(train_scaler)\n",
    "pca1.shape"
   ]
  },
  {
   "cell_type": "code",
   "execution_count": null,
   "metadata": {
    "colab": {
     "base_uri": "https://localhost:8080/"
    },
    "executionInfo": {
     "elapsed": 4,
     "status": "ok",
     "timestamp": 1651841792446,
     "user": {
      "displayName": "Asha G",
      "userId": "11159914543598210133"
     },
     "user_tz": -60
    },
    "id": "r432KqJ0Ljm9",
    "outputId": "d33cd4d8-a8d7-4665-c7c9-b24ac01c7030"
   },
   "outputs": [
    {
     "data": {
      "text/plain": [
       "array([0.13885902, 0.06736003, 0.06379252, 0.04946378, 0.04840618,\n",
       "       0.04636658, 0.04524005, 0.044358  , 0.04295407, 0.03888531,\n",
       "       0.03868175, 0.03775829, 0.03685797, 0.03155603, 0.03089586,\n",
       "       0.02978946, 0.02802315, 0.02638866, 0.02595262, 0.02254196,\n",
       "       0.02129574, 0.01989115, 0.01770979])"
      ]
     },
     "execution_count": 52,
     "metadata": {},
     "output_type": "execute_result"
    }
   ],
   "source": [
    "pca.explained_variance_ratio_"
   ]
  },
  {
   "cell_type": "code",
   "execution_count": null,
   "metadata": {
    "id": "KbsLohEzLjuA"
   },
   "outputs": [],
   "source": [
    "std_clf = make_pipeline(StandardScaler(), PCA(n_components=2), MLPClassifier())\n",
    "std_clf.fit(X_train, y_train)\n",
    "pred_test_std = std_clf.predict(X_val)"
   ]
  },
  {
   "cell_type": "code",
   "execution_count": null,
   "metadata": {
    "colab": {
     "base_uri": "https://localhost:8080/"
    },
    "executionInfo": {
     "elapsed": 215,
     "status": "ok",
     "timestamp": 1651842189457,
     "user": {
      "displayName": "Asha G",
      "userId": "11159914543598210133"
     },
     "user_tz": -60
    },
    "id": "gLxQyfK6LjwL",
    "outputId": "c3686860-dc9e-4844-baf5-6029093ac82a"
   },
   "outputs": [
    {
     "name": "stdout",
     "output_type": "stream",
     "text": [
      "\n",
      "Prediction accuracy for the normal test dataset with PCA\n",
      "56.55%\n",
      "\n"
     ]
    }
   ],
   "source": [
    "print(\"\\nPrediction accuracy for the normal test dataset with PCA\")\n",
    "print(f\"{accuracy_score(y_val, pred_test_std):.2%}\\n\")"
   ]
  },
  {
   "cell_type": "code",
   "execution_count": null,
   "metadata": {
    "colab": {
     "base_uri": "https://localhost:8080/"
    },
    "executionInfo": {
     "elapsed": 183,
     "status": "ok",
     "timestamp": 1651842277193,
     "user": {
      "displayName": "Asha G",
      "userId": "11159914543598210133"
     },
     "user_tz": -60
    },
    "id": "EN4P3CmodzBz",
    "outputId": "d87f09ab-26d9-4182-d765-15eea245d38c"
   },
   "outputs": [
    {
     "name": "stdout",
     "output_type": "stream",
     "text": [
      "Accuracy : \n",
      "0.5654522787089624\n",
      "Validation set results with 2 Hidden layers : \n",
      "              precision    recall  f1-score   support\n",
      "\n",
      "           0       0.54      0.43      0.48      3350\n",
      "           1       0.58      0.69      0.63      3869\n",
      "\n",
      "    accuracy                           0.57      7219\n",
      "   macro avg       0.56      0.56      0.55      7219\n",
      "weighted avg       0.56      0.57      0.56      7219\n",
      "\n"
     ]
    }
   ],
   "source": [
    "print('Accuracy : ')\n",
    "print(std_clf.score(X_val, y_val))\n",
    "print('Validation set results with 2 Hidden layers : ')\n",
    "print(classification_report(y_val, pred_test_std))"
   ]
  },
  {
   "cell_type": "code",
   "execution_count": null,
   "metadata": {
    "colab": {
     "base_uri": "https://localhost:8080/"
    },
    "executionInfo": {
     "elapsed": 65234,
     "status": "ok",
     "timestamp": 1651916358223,
     "user": {
      "displayName": "Asha G",
      "userId": "11159914543598210133"
     },
     "user_tz": -60
    },
    "id": "xLP24lpM30Yh",
    "outputId": "f86a912b-c0d5-40dd-b600-deb0c66e8047"
   },
   "outputs": [
    {
     "name": "stdout",
     "output_type": "stream",
     "text": [
      "Accuracy : \n",
      "0.6786258484554647\n",
      "Validation set results with 2 Hidden layers : \n",
      "              precision    recall  f1-score   support\n",
      "\n",
      "           0       0.65      0.66      0.66      3350\n",
      "           1       0.70      0.70      0.70      3869\n",
      "\n",
      "    accuracy                           0.68      7219\n",
      "   macro avg       0.68      0.68      0.68      7219\n",
      "weighted avg       0.68      0.68      0.68      7219\n",
      "\n"
     ]
    }
   ],
   "source": [
    "std_clf51 = make_pipeline(StandardScaler(), PCA(0.95), MLPClassifier(hidden_layer_sizes = (25, 35), activation = 'relu'))\n",
    "std_clf51.fit(X_train, y_train)\n",
    "pred_val_std = std_clf51.predict(X_val)\n",
    "\n",
    "print('Accuracy : ')\n",
    "print(std_clf51.score(X_val, y_val))\n",
    "print('Validation set results with 2 Hidden layers : ')\n",
    "print(classification_report(y_val, pred_val_std))"
   ]
  },
  {
   "cell_type": "code",
   "execution_count": null,
   "metadata": {
    "id": "dludBb2WdzD2"
   },
   "outputs": [],
   "source": [
    "std_clf1 = make_pipeline(StandardScaler(), PCA(n_components=20), MLPClassifier(hidden_layer_sizes = 50, activation = 'relu'))\n",
    "std_clf1.fit(X_train, y_train)\n",
    "pred_test_std = std_clf1.predict(X_val)"
   ]
  },
  {
   "cell_type": "code",
   "execution_count": null,
   "metadata": {
    "colab": {
     "base_uri": "https://localhost:8080/"
    },
    "executionInfo": {
     "elapsed": 12,
     "status": "ok",
     "timestamp": 1651842840670,
     "user": {
      "displayName": "Asha G",
      "userId": "11159914543598210133"
     },
     "user_tz": -60
    },
    "id": "X-I1K6WTdzF9",
    "outputId": "0006464e-d16a-471a-84f2-2ef2b5dceb50"
   },
   "outputs": [
    {
     "name": "stdout",
     "output_type": "stream",
     "text": [
      "Accuracy : \n",
      "0.6511982269012329\n",
      "Validation set results with 2 Hidden layers : \n",
      "              precision    recall  f1-score   support\n",
      "\n",
      "           0       0.64      0.56      0.60      3350\n",
      "           1       0.66      0.73      0.69      3869\n",
      "\n",
      "    accuracy                           0.65      7219\n",
      "   macro avg       0.65      0.65      0.65      7219\n",
      "weighted avg       0.65      0.65      0.65      7219\n",
      "\n"
     ]
    }
   ],
   "source": [
    "print('Accuracy : ')\n",
    "print(std_clf1.score(X_val, y_val))\n",
    "print('Validation set results with 2 Hidden layers : ')\n",
    "print(classification_report(y_val, pred_test_std))"
   ]
  },
  {
   "cell_type": "code",
   "execution_count": null,
   "metadata": {
    "colab": {
     "base_uri": "https://localhost:8080/"
    },
    "executionInfo": {
     "elapsed": 463,
     "status": "ok",
     "timestamp": 1651916661558,
     "user": {
      "displayName": "Asha G",
      "userId": "11159914543598210133"
     },
     "user_tz": -60
    },
    "id": "S1844Rkr5izg",
    "outputId": "b7a5c27f-b5f5-482f-baef-5f0045a69740"
   },
   "outputs": [
    {
     "name": "stdout",
     "output_type": "stream",
     "text": [
      "(64965, 19)\n"
     ]
    },
    {
     "data": {
      "text/plain": [
       "array([0.11857291, 0.099966  , 0.08644029, 0.07255706, 0.06639667,\n",
       "       0.05796887, 0.05759269, 0.05616057, 0.05485031, 0.04616458,\n",
       "       0.04175469, 0.03899919, 0.03846471, 0.03113024, 0.0264493 ,\n",
       "       0.01914977, 0.01880117, 0.01498932, 0.01381715])"
      ]
     },
     "execution_count": 141,
     "metadata": {},
     "output_type": "execute_result"
    }
   ],
   "source": [
    "pca = PCA(0.95)\n",
    "\n",
    "x_pca = pca.fit_transform(X_train)\n",
    "\n",
    "print(x_pca.shape)\n",
    "pca.explained_variance_ratio_"
   ]
  },
  {
   "cell_type": "code",
   "execution_count": null,
   "metadata": {
    "colab": {
     "base_uri": "https://localhost:8080/"
    },
    "executionInfo": {
     "elapsed": 461,
     "status": "ok",
     "timestamp": 1651916692262,
     "user": {
      "displayName": "Asha G",
      "userId": "11159914543598210133"
     },
     "user_tz": -60
    },
    "id": "yC5ELZ5a6Eh8",
    "outputId": "93cd3321-0aba-4c3a-e63b-05c4f3f3e163"
   },
   "outputs": [
    {
     "name": "stdout",
     "output_type": "stream",
     "text": [
      "(64965, 20)\n"
     ]
    },
    {
     "data": {
      "text/plain": [
       "array([0.11857291, 0.099966  , 0.08644029, 0.07255706, 0.06639667,\n",
       "       0.05796887, 0.05759269, 0.05616057, 0.05485031, 0.04616458,\n",
       "       0.04175469, 0.03899919, 0.03846471, 0.03113024, 0.0264493 ,\n",
       "       0.01914977, 0.01880117, 0.01498932, 0.01381715, 0.01000232])"
      ]
     },
     "execution_count": 142,
     "metadata": {},
     "output_type": "execute_result"
    }
   ],
   "source": [
    "pca = PCA(0.97)\n",
    "\n",
    "x_pca = pca.fit_transform(X_train)\n",
    "\n",
    "print(x_pca.shape)\n",
    "pca.explained_variance_ratio_"
   ]
  },
  {
   "cell_type": "code",
   "execution_count": null,
   "metadata": {
    "colab": {
     "base_uri": "https://localhost:8080/"
    },
    "executionInfo": {
     "elapsed": 495,
     "status": "ok",
     "timestamp": 1651917012374,
     "user": {
      "displayName": "Asha G",
      "userId": "11159914543598210133"
     },
     "user_tz": -60
    },
    "id": "v9kBCSFd6JvD",
    "outputId": "cc5971f6-d81f-4376-d638-dd9668659134"
   },
   "outputs": [
    {
     "name": "stdout",
     "output_type": "stream",
     "text": [
      "(64965, 24)\n"
     ]
    },
    {
     "data": {
      "text/plain": [
       "array([0.11857291, 0.099966  , 0.08644029, 0.07255706, 0.06639667,\n",
       "       0.05796887, 0.05759269, 0.05616057, 0.05485031, 0.04616458,\n",
       "       0.04175469, 0.03899919, 0.03846471, 0.03113024, 0.0264493 ,\n",
       "       0.01914977, 0.01880117, 0.01498932, 0.01381715, 0.01000232,\n",
       "       0.00759765, 0.0065112 , 0.00544163, 0.00500464])"
      ]
     },
     "execution_count": 148,
     "metadata": {},
     "output_type": "execute_result"
    }
   ],
   "source": [
    "pca = PCA(0.99)\n",
    "\n",
    "x_pca = pca.fit_transform(X_train)\n",
    "\n",
    "print(x_pca.shape)\n",
    "pca.explained_variance_ratio_"
   ]
  },
  {
   "cell_type": "code",
   "execution_count": null,
   "metadata": {
    "colab": {
     "base_uri": "https://localhost:8080/",
     "height": 302
    },
    "executionInfo": {
     "elapsed": 1669,
     "status": "ok",
     "timestamp": 1651916745342,
     "user": {
      "displayName": "Asha G",
      "userId": "11159914543598210133"
     },
     "user_tz": -60
    },
    "id": "cDoj1RQ1dzIO",
    "outputId": "6fd0b1c4-4e99-4537-cf9d-ca99c236c7dc"
   },
   "outputs": [
    {
     "data": {
      "text/plain": [
       "Text(0, 0.5, 'Cum Variance')"
      ]
     },
     "execution_count": 145,
     "metadata": {},
     "output_type": "execute_result"
    },
    {
     "data": {
      "image/png": "[encoded data removed]",
      "text/plain": [
       "<Figure size 432x288 with 1 Axes>"
      ]
     },
     "metadata": {},
     "output_type": "display_data"
    }
   ],
   "source": [
    "# from sklearn.decomposition import PCA\n",
    "pca = PCA(n_components = 28)\n",
    "pca.fit(X_train)\n",
    "plt.plot(np.cumsum(pca.explained_variance_ratio_))\n",
    "plt.xlabel (\"No. of components\")\n",
    "plt.ylabel ( \"Cum Variance\")"
   ]
  },
  {
   "cell_type": "markdown",
   "metadata": {
    "id": "G7mHeP0U7Y7b"
   },
   "source": [
    "The below code was run with different percentage of PCA (0.95, 0.97, 0.98, 0.99)"
   ]
  },
  {
   "cell_type": "code",
   "execution_count": null,
   "metadata": {
    "colab": {
     "base_uri": "https://localhost:8080/"
    },
    "executionInfo": {
     "elapsed": 236903,
     "status": "ok",
     "timestamp": 1651917421375,
     "user": {
      "displayName": "Asha G",
      "userId": "11159914543598210133"
     },
     "user_tz": -60
    },
    "id": "fGCEm0Fb5LpW",
    "outputId": "f6f8a595-36f2-4569-b58a-acad03292121"
   },
   "outputs": [
    {
     "name": "stdout",
     "output_type": "stream",
     "text": [
      "PCA percentage set to :  0.95\n",
      "Accuracy : \n",
      "0.6403934062889597\n",
      "Validation set results with 2 Hidden layers : \n",
      "              precision    recall  f1-score   support\n",
      "\n",
      "           0       0.63      0.56      0.59      3350\n",
      "           1       0.65      0.71      0.68      3869\n",
      "\n",
      "    accuracy                           0.64      7219\n",
      "   macro avg       0.64      0.63      0.63      7219\n",
      "weighted avg       0.64      0.64      0.64      7219\n",
      "\n",
      "PCA percentage set to :  0.97\n"
     ]
    },
    {
     "name": "stderr",
     "output_type": "stream",
     "text": [
      "/usr/local/lib/python3.7/dist-packages/sklearn/neural_network/_multilayer_perceptron.py:696: ConvergenceWarning: Stochastic Optimizer: Maximum iterations (200) reached and the optimization hasn't converged yet.\n",
      "  ConvergenceWarning,\n"
     ]
    },
    {
     "name": "stdout",
     "output_type": "stream",
     "text": [
      "Accuracy : \n",
      "0.6457958165950963\n",
      "Validation set results with 2 Hidden layers : \n",
      "              precision    recall  f1-score   support\n",
      "\n",
      "           0       0.63      0.59      0.61      3350\n",
      "           1       0.66      0.70      0.68      3869\n",
      "\n",
      "    accuracy                           0.65      7219\n",
      "   macro avg       0.64      0.64      0.64      7219\n",
      "weighted avg       0.64      0.65      0.64      7219\n",
      "\n",
      "PCA percentage set to :  0.98\n"
     ]
    },
    {
     "name": "stderr",
     "output_type": "stream",
     "text": [
      "/usr/local/lib/python3.7/dist-packages/sklearn/neural_network/_multilayer_perceptron.py:696: ConvergenceWarning: Stochastic Optimizer: Maximum iterations (200) reached and the optimization hasn't converged yet.\n",
      "  ConvergenceWarning,\n"
     ]
    },
    {
     "name": "stdout",
     "output_type": "stream",
     "text": [
      "Accuracy : \n",
      "0.6560465438426375\n",
      "Validation set results with 2 Hidden layers : \n",
      "              precision    recall  f1-score   support\n",
      "\n",
      "           0       0.63      0.63      0.63      3350\n",
      "           1       0.68      0.68      0.68      3869\n",
      "\n",
      "    accuracy                           0.66      7219\n",
      "   macro avg       0.65      0.65      0.65      7219\n",
      "weighted avg       0.66      0.66      0.66      7219\n",
      "\n",
      "PCA percentage set to :  0.99\n",
      "Accuracy : \n",
      "0.6834741653968693\n",
      "Validation set results with 2 Hidden layers : \n",
      "              precision    recall  f1-score   support\n",
      "\n",
      "           0       0.67      0.64      0.65      3350\n",
      "           1       0.70      0.72      0.71      3869\n",
      "\n",
      "    accuracy                           0.68      7219\n",
      "   macro avg       0.68      0.68      0.68      7219\n",
      "weighted avg       0.68      0.68      0.68      7219\n",
      "\n"
     ]
    }
   ],
   "source": [
    "for pca_per in [0.95, 0.97, 0.98, 0.99] : \n",
    "  print('PCA percentage set to : ' , pca_per)\n",
    "  pca_clf_51 = make_pipeline( PCA(pca_per), MLPClassifier(hidden_layer_sizes = (25, 35), activation = 'relu'))\n",
    "  pca_clf_51.fit(X_train, y_train)\n",
    "  pred_test_pca = pca_clf_51.predict(X_val)\n",
    "\n",
    "  print('Accuracy : ')\n",
    "  print(pca_clf_51.score(X_val, y_val))\n",
    "  print('Validation set results with 2 Hidden layers : ')\n",
    "  print(classification_report(y_val, pred_test_pca))"
   ]
  },
  {
   "cell_type": "code",
   "execution_count": null,
   "metadata": {
    "colab": {
     "base_uri": "https://localhost:8080/"
    },
    "executionInfo": {
     "elapsed": 79876,
     "status": "ok",
     "timestamp": 1651844426412,
     "user": {
      "displayName": "Asha G",
      "userId": "11159914543598210133"
     },
     "user_tz": -60
    },
    "id": "cRBsXqylh706",
    "outputId": "f584ebcd-8e54-4546-f5c6-1d816a0316a5"
   },
   "outputs": [
    {
     "name": "stderr",
     "output_type": "stream",
     "text": [
      "/usr/local/lib/python3.7/dist-packages/sklearn/neural_network/_multilayer_perceptron.py:696: ConvergenceWarning: Stochastic Optimizer: Maximum iterations (200) reached and the optimization hasn't converged yet.\n",
      "  ConvergenceWarning,\n"
     ]
    }
   ],
   "source": [
    "pca_clf = make_pipeline( PCA(n_components=23), MLPClassifier(hidden_layer_sizes = 50, activation = 'relu'))\n",
    "pca_clf.fit(X_train, y_train)\n",
    "pred_test_pca = pca_clf.predict(X_val)"
   ]
  },
  {
   "cell_type": "code",
   "execution_count": null,
   "metadata": {
    "colab": {
     "base_uri": "https://localhost:8080/"
    },
    "executionInfo": {
     "elapsed": 6,
     "status": "ok",
     "timestamp": 1651844426412,
     "user": {
      "displayName": "Asha G",
      "userId": "11159914543598210133"
     },
     "user_tz": -60
    },
    "id": "CRdt9QoKh73G",
    "outputId": "8f8d5f39-9ae1-43f1-fb51-9d9bd6d03373"
   },
   "outputs": [
    {
     "name": "stdout",
     "output_type": "stream",
     "text": [
      "Accuracy : \n",
      "0.662003047513506\n",
      "Validation set results with 2 Hidden layers : \n",
      "              precision    recall  f1-score   support\n",
      "\n",
      "           0       0.65      0.59      0.62      3350\n",
      "           1       0.67      0.73      0.70      3869\n",
      "\n",
      "    accuracy                           0.66      7219\n",
      "   macro avg       0.66      0.66      0.66      7219\n",
      "weighted avg       0.66      0.66      0.66      7219\n",
      "\n"
     ]
    }
   ],
   "source": [
    "print('Accuracy : ')\n",
    "print(pca_clf.score(X_val, y_val))\n",
    "print('Validation set results with 2 Hidden layers : ')\n",
    "print(classification_report(y_val, pred_test_pca))"
   ]
  },
  {
   "cell_type": "markdown",
   "metadata": {
    "id": "zwODNWTr8j40"
   },
   "source": [
    "Trying different components - a trial and error method "
   ]
  },
  {
   "cell_type": "code",
   "execution_count": null,
   "metadata": {
    "colab": {
     "base_uri": "https://localhost:8080/"
    },
    "executionInfo": {
     "elapsed": 108911,
     "status": "ok",
     "timestamp": 1651844213102,
     "user": {
      "displayName": "Asha G",
      "userId": "11159914543598210133"
     },
     "user_tz": -60
    },
    "id": "662nhjZjh75Y",
    "outputId": "fd2f95db-3174-43a8-a4a5-f9711887564a"
   },
   "outputs": [
    {
     "name": "stderr",
     "output_type": "stream",
     "text": [
      "/usr/local/lib/python3.7/dist-packages/sklearn/neural_network/_multilayer_perceptron.py:696: ConvergenceWarning: Stochastic Optimizer: Maximum iterations (200) reached and the optimization hasn't converged yet.\n",
      "  ConvergenceWarning,\n"
     ]
    }
   ],
   "source": [
    "pca_clf_2 = make_pipeline( PCA(n_components = 'mle', svd_solver = 'full'), MLPClassifier(hidden_layer_sizes = (25, 35), activation = 'relu'))\n",
    "pca_clf_2.fit(X_train, y_train)\n",
    "pred_test_pca2 = pca_clf_2.predict(X_val)\n"
   ]
  },
  {
   "cell_type": "code",
   "execution_count": null,
   "metadata": {
    "colab": {
     "base_uri": "https://localhost:8080/"
    },
    "executionInfo": {
     "elapsed": 10,
     "status": "ok",
     "timestamp": 1651844213103,
     "user": {
      "displayName": "Asha G",
      "userId": "11159914543598210133"
     },
     "user_tz": -60
    },
    "id": "RI5ZTqqejNzg",
    "outputId": "efdc43e7-6a02-44e2-e323-481b8acb1278"
   },
   "outputs": [
    {
     "name": "stdout",
     "output_type": "stream",
     "text": [
      "Accuracy : \n",
      "0.7050838066214157\n",
      "Validation set results with 2 Hidden layers : \n",
      "              precision    recall  f1-score   support\n",
      "\n",
      "           0       0.68      0.70      0.69      3350\n",
      "           1       0.73      0.71      0.72      3869\n",
      "\n",
      "    accuracy                           0.71      7219\n",
      "   macro avg       0.70      0.70      0.70      7219\n",
      "weighted avg       0.71      0.71      0.71      7219\n",
      "\n"
     ]
    }
   ],
   "source": [
    "print('Accuracy : ')\n",
    "print(pca_clf_2.score(X_val, y_val))\n",
    "print('Validation set results with 2 Hidden layers : ')\n",
    "print(classification_report(y_val, pred_test_pca2))"
   ]
  },
  {
   "cell_type": "markdown",
   "metadata": {
    "id": "dytk6B1B12id"
   },
   "source": [
    "*Ref : https://scikit-learn.org/stable/auto_examples/preprocessing/plot_scaling_importance.html#sphx-glr-auto-examples-preprocessing-plot-scaling-importance-py*\n",
    "\n"
   ]
  },
  {
   "cell_type": "markdown",
   "metadata": {
    "id": "yjmS8Xho84gT"
   },
   "source": [
    "*Though 0.95 percentage of data is being coverd by 19 variables it is not enough when trying to validate data, 0.99 has 27 attributes and performs better in validations set after being standerdised.*\n",
    "\n",
    "\n"
   ]
  },
  {
   "cell_type": "code",
   "execution_count": null,
   "metadata": {
    "colab": {
     "base_uri": "https://localhost:8080/",
     "height": 999
    },
    "executionInfo": {
     "elapsed": 160575,
     "status": "ok",
     "timestamp": 1651849543300,
     "user": {
      "displayName": "Asha G",
      "userId": "11159914543598210133"
     },
     "user_tz": -60
    },
    "id": "NBIM6_3L3nMR",
    "outputId": "a7e7471a-15a9-4ec9-e455-b23c14789f02"
   },
   "outputs": [
    {
     "name": "stderr",
     "output_type": "stream",
     "text": [
      "/usr/local/lib/python3.7/dist-packages/sklearn/neural_network/_multilayer_perceptron.py:696: ConvergenceWarning: Stochastic Optimizer: Maximum iterations (200) reached and the optimization hasn't converged yet.\n",
      "  ConvergenceWarning,\n"
     ]
    },
    {
     "name": "stdout",
     "output_type": "stream",
     "text": [
      "\n",
      "Prediction accuracy for the normal test dataset with PCA\n",
      "67.20%\n",
      "\n",
      "\n",
      "Prediction accuracy for the standardized test dataset with PCA\n",
      "70.36%\n",
      "\n",
      "\n",
      "PC 1 without scaling:\n",
      "[-7.03595148e-04  1.46454412e-02  1.64279089e-03  9.47974777e-04\n",
      "  1.77170442e-03 -1.84975855e-03  1.35567298e-02 -6.66445639e-04\n",
      " -1.30711783e-01 -6.43604351e-03  5.13640744e-03 -9.25436632e-04\n",
      " -1.48526542e-01 -2.19166424e-02  2.16475334e-02 -2.17961652e-03\n",
      " -3.70944613e-01  7.45842500e-02  7.99694557e-03  1.81517625e-03\n",
      "  8.99539320e-01  3.52627210e-02  2.60750925e-03 -1.03971660e-03\n",
      " -2.06626867e-02 -7.05069535e-02 -1.86641038e-02 -4.87246879e-03]\n",
      "\n",
      "PC 1 with scaling:\n",
      "[ 4.73842721e-02  1.76831036e-03  3.76020105e-03  1.20971354e-01\n",
      "  3.74171843e-04  2.99602017e-01 -9.03509189e-04 -4.92521952e-03\n",
      "  1.22575684e-02  2.86545905e-01 -6.23945297e-03  3.66827452e-03\n",
      "  3.84292173e-02  2.27035850e-01  4.63020402e-04  5.97554442e-03\n",
      "  5.03946609e-03  1.49930156e-01  4.44525694e-04 -1.69035493e-03\n",
      " -2.93564451e-02  2.38845821e-01  3.16361943e-01  2.82667698e-02\n",
      "  2.94895153e-01  2.89644430e-01  4.59875745e-01  4.40799674e-01]\n"
     ]
    },
    {
     "data": {
      "image/png": "[encoded data removed]",
      "text/plain": [
       "<Figure size 720x504 with 2 Axes>"
      ]
     },
     "metadata": {},
     "output_type": "display_data"
    }
   ],
   "source": [
    "import matplotlib.pyplot as plt\n",
    "\n",
    "from sklearn.model_selection import train_test_split\n",
    "from sklearn.preprocessing import StandardScaler\n",
    "from sklearn.decomposition import PCA\n",
    "from sklearn.naive_bayes import GaussianNB\n",
    "from sklearn.metrics import accuracy_score\n",
    "from sklearn.datasets import load_wine\n",
    "from sklearn.pipeline import make_pipeline\n",
    "\n",
    "# Code source: Tyler Lanigan <tylerlanigan@gmail.com>\n",
    "#              Sebastian Raschka <mail@sebastianraschka.com>\n",
    "\n",
    "# License: BSD 3 clause\n",
    "\n",
    "RANDOM_STATE = 42\n",
    "FIG_SIZE = (10, 7)\n",
    "\n",
    "# Fit to data and predict using pipelined GNB and PCA\n",
    "unscaled_clf = make_pipeline(PCA(0.99), MLPClassifier(hidden_layer_sizes = 50, activation = 'relu'))\n",
    "unscaled_clf.fit(X_train, y_train)\n",
    "pred_val = unscaled_clf.predict(X_val)\n",
    "\n",
    "# Fit to data and predict using pipelined scaling, GNB and PCA\n",
    "std_clf = make_pipeline(StandardScaler(), PCA(0.99), MLPClassifier(hidden_layer_sizes = 50, activation = 'relu'))\n",
    "std_clf.fit(X_train, y_train)\n",
    "pred_val_std = std_clf.predict(X_val)\n",
    "\n",
    "# Show prediction accuracies in scaled and unscaled data.\n",
    "print(\"\\nPrediction accuracy for the normal test dataset with PCA\")\n",
    "print(f\"{accuracy_score(y_val, pred_val):.2%}\\n\")\n",
    "\n",
    "print(\"\\nPrediction accuracy for the standardized test dataset with PCA\")\n",
    "print(f\"{accuracy_score(y_val, pred_val_std):.2%}\\n\")\n",
    "\n",
    "# Extract PCA from pipeline\n",
    "pca = unscaled_clf.named_steps[\"pca\"]\n",
    "pca_std = std_clf.named_steps[\"pca\"]\n",
    "\n",
    "# Show first principal components\n",
    "print(f\"\\nPC 1 without scaling:\\n{pca.components_[0]}\")\n",
    "print(f\"\\nPC 1 with scaling:\\n{pca_std.components_[0]}\")\n",
    "\n",
    "# Use PCA without and with scale on X_train data for visualization.\n",
    "X_train_transformed = pca.transform(X_train)\n",
    "\n",
    "scaler = std_clf.named_steps[\"standardscaler\"]\n",
    "scaled_X_train = scaler.transform(X_train)\n",
    "X_train_std_transformed = pca_std.transform(scaled_X_train)\n",
    "\n",
    "# visualize standardized vs. untouched dataset with PCA performed\n",
    "fig, (ax1, ax2) = plt.subplots(ncols=2, figsize=FIG_SIZE)\n",
    "\n",
    "target_classes = [0, 1]\n",
    "colors = (\"blue\", \"green\")\n",
    "markers = (\"^\", \"o\")\n",
    "\n",
    "for target_class, color, marker in zip(target_classes, colors, markers):\n",
    "    ax1.scatter(\n",
    "        x=X_train_transformed[y_train == target_class, 0],\n",
    "        y=X_train_transformed[y_train == target_class, 1],\n",
    "        color=color,\n",
    "        label=f\"class {target_class}\",\n",
    "        alpha=0.5,\n",
    "        marker=marker,\n",
    "    )\n",
    "\n",
    "    ax2.scatter(\n",
    "        x=X_train_std_transformed[y_train == target_class, 0],\n",
    "        y=X_train_std_transformed[y_train == target_class, 1],\n",
    "        color=color,\n",
    "        label=f\"class {target_class}\",\n",
    "        alpha=0.5,\n",
    "        marker=marker,\n",
    "    )\n",
    "\n",
    "ax1.set_title(\"Training dataset after PCA\")\n",
    "ax2.set_title(\"Standardized training dataset after PCA\")\n",
    "\n",
    "for ax in (ax1, ax2):\n",
    "    ax.set_xlabel(\"1st principal component\")\n",
    "    ax.set_ylabel(\"2nd principal component\")\n",
    "    ax.legend(loc=\"upper right\")\n",
    "    ax.grid()\n",
    "\n",
    "plt.tight_layout()\n",
    "\n",
    "plt.show()"
   ]
  },
  {
   "cell_type": "markdown",
   "metadata": {
    "id": "afTMrDxh2zSn"
   },
   "source": [
    "MLP model building on training set with the whole dataset is very time consuming, so subsampling few records to run grid search to get the best set of parameters. This best set of parameters willl be used to retrain the final model\n",
    "\n",
    "\n",
    "PCA (0.99) with standerdised data gives better results hence sampleling 8000 records and performing standardization and PCA and run grid search to identify other parameters"
   ]
  },
  {
   "cell_type": "code",
   "execution_count": null,
   "metadata": {
    "colab": {
     "base_uri": "https://localhost:8080/"
    },
    "executionInfo": {
     "elapsed": 402,
     "status": "ok",
     "timestamp": 1651934367729,
     "user": {
      "displayName": "Asha G",
      "userId": "11159914543598210133"
     },
     "user_tz": -60
    },
    "id": "fT3eVjhq2oNl",
    "outputId": "d8977414-c752-4b1a-f9ed-200e9e358035"
   },
   "outputs": [
    {
     "data": {
      "text/plain": [
       "(8000, 29)"
      ]
     },
     "execution_count": 20,
     "metadata": {},
     "output_type": "execute_result"
    }
   ],
   "source": [
    "higgs_df_sample = higgs_df_train.sample(n = 8000)\n",
    "higgs_df_sample.shape"
   ]
  },
  {
   "cell_type": "code",
   "execution_count": null,
   "metadata": {
    "colab": {
     "base_uri": "https://localhost:8080/",
     "height": 285
    },
    "executionInfo": {
     "elapsed": 214,
     "status": "ok",
     "timestamp": 1651850674253,
     "user": {
      "displayName": "Asha G",
      "userId": "11159914543598210133"
     },
     "user_tz": -60
    },
    "id": "WrvTqVjD2oQW",
    "outputId": "f4341b83-677d-40c3-e90a-c7acbc7d3597"
   },
   "outputs": [
    {
     "data": {
      "image/png": "[encoded data removed]",
      "text/plain": [
       "<Figure size 432x288 with 1 Axes>"
      ]
     },
     "metadata": {},
     "output_type": "display_data"
    }
   ],
   "source": [
    "sns.set_theme(style=\"darkgrid\")\n",
    "ax = sns.countplot(x=\"class\", data=higgs_df_sample)"
   ]
  },
  {
   "cell_type": "code",
   "execution_count": null,
   "metadata": {
    "id": "MYmHaZqk2oST"
   },
   "outputs": [],
   "source": [
    "y_sample = higgs_df_sample['class']\n",
    "X_sample = higgs_df_sample.drop(columns='class')\n",
    "\n",
    "X_train_sample, X_val_sample, y_train_sample, y_val_sample = train_test_split(X_sample, y_sample, test_size = 0.10, random_state = 20)"
   ]
  },
  {
   "cell_type": "code",
   "execution_count": null,
   "metadata": {
    "colab": {
     "base_uri": "https://localhost:8080/"
    },
    "executionInfo": {
     "elapsed": 190,
     "status": "ok",
     "timestamp": 1651862018238,
     "user": {
      "displayName": "Asha G",
      "userId": "11159914543598210133"
     },
     "user_tz": -60
    },
    "id": "12wyxFe2A10o",
    "outputId": "cab4e6c0-c72d-429e-bbb5-2b9a5d53522d"
   },
   "outputs": [
    {
     "data": {
      "text/plain": [
       "(7200, 23)"
      ]
     },
     "execution_count": 107,
     "metadata": {},
     "output_type": "execute_result"
    }
   ],
   "source": [
    "scaler = StandardScaler()\n",
    "# Fit on training set only.\n",
    "scaler.fit(X_train_sample)\n",
    "# Apply transform to both the training set and the test set.\n",
    "X_train_sample = scaler.transform(X_train_sample)\n",
    "X_val_sample = scaler.transform(X_val_sample)\n",
    "\n",
    "from sklearn.decomposition import PCA\n",
    "# Make an instance of the Model\n",
    "pca = PCA(.99)\n",
    "\n",
    "pca.fit(X_train_sample)\n",
    "\n",
    "X_train_sample = pca.transform(X_train_sample)\n",
    "X_val_sample = pca.transform(X_val_sample)\n",
    "\n",
    "X_train_sample.shape"
   ]
  },
  {
   "cell_type": "code",
   "execution_count": null,
   "metadata": {
    "id": "L-XVQ4oDFNMg"
   },
   "outputs": [],
   "source": [
    "import joblib\n",
    "GOOGLE_MODELS_SAVED = GOOGLE_DRIVE_PATH + '/SavedModels/MLP'"
   ]
  },
  {
   "cell_type": "code",
   "execution_count": null,
   "metadata": {
    "colab": {
     "base_uri": "https://localhost:8080/"
    },
    "executionInfo": {
     "elapsed": 2383215,
     "status": "ok",
     "timestamp": 1651864455450,
     "user": {
      "displayName": "Asha G",
      "userId": "11159914543598210133"
     },
     "user_tz": -60
    },
    "id": "p3w03MASBMd7",
    "outputId": "6c47eb74-07f5-4b66-b8af-d794945464e5"
   },
   "outputs": [
    {
     "name": "stdout",
     "output_type": "stream",
     "text": [
      "Fitting 5 folds for each of 144 candidates, totalling 720 fits\n",
      "{'activation': 'relu', 'alpha': 0.001, 'hidden_layer_sizes': 50, 'learning_rate_init': 0.001, 'max_iter': 100, 'random_state': 5}\n"
     ]
    },
    {
     "name": "stderr",
     "output_type": "stream",
     "text": [
      "/usr/local/lib/python3.7/dist-packages/sklearn/neural_network/_multilayer_perceptron.py:696: ConvergenceWarning: Stochastic Optimizer: Maximum iterations (100) reached and the optimization hasn't converged yet.\n",
      "  ConvergenceWarning,\n"
     ]
    },
    {
     "data": {
      "text/plain": [
       "['drive/My Drive/ColabNotebooks/NN/CourseWork/HiggsDetection_NeuralComputing/SavedModels/MLP/MLP_Grid_clf5_afterPCAScalar.pkl']"
      ]
     },
     "execution_count": 108,
     "metadata": {},
     "output_type": "execute_result"
    }
   ],
   "source": [
    "parameters = { 'max_iter': [100, 300, 500, 1000 ],  'random_state':[5, 10, 20], 'alpha': [0.0001, 0.001, 0.01], 'learning_rate_init' : [0.05, 0.01, 0.005, 0.001], \n",
    "              'hidden_layer_sizes': [50], 'activation' : ['relu'] }\n",
    "# parameters = {'activation' : ['logistic', 'relu', 'tanh']}\n",
    "\n",
    "clf5 = GridSearchCV(MLPClassifier(), parameters, n_jobs=-1, verbose=4).fit(X_train_sample, y_train_sample)\n",
    "print(clf5.best_params_)\n",
    "\n",
    "\n",
    "GOOGLE_MODELS_SAVED = GOOGLE_DRIVE_PATH + '/SavedModels/MLP'\n",
    "\n",
    "joblib.dump(clf5, GOOGLE_MODELS_SAVED + '/MLP_Grid_clf5_afterPCAScalar.pkl')"
   ]
  },
  {
   "cell_type": "markdown",
   "metadata": {
    "id": "uo8GlS3g-V-o"
   },
   "source": [
    "**The best set of parameters on sampled data {'activation': 'relu', 'alpha': 0.001, 'hidden_layer_sizes': 50, 'learning_rate_init': 0.001, 'max_iter': 100, 'random_state': 5}**\n",
    "\n"
   ]
  },
  {
   "cell_type": "markdown",
   "metadata": {
    "id": "HtW3Pk3RGA9Z"
   },
   "source": [
    "## Dataset Columns\n",
    "\n",
    "Data set columns are ['lepton_pT', 'lepton_eta', 'lepton_phi', 'missing_energy_magnitude', 'missing_energy_phi', 'jet1pt', 'jet1eta', 'jet1phi', 'jet1b-tag', 'jet2pt', 'jet2eta', 'jet2phi', 'jet2b-tag', 'jet3pt', 'jet3eta', 'jet3phi', 'jet3b-tag', 'jet4pt', 'jet4eta', 'jet4phi', 'jet4b-tag'] are the actual\n",
    "\n",
    "where as these are calucalated ['m_jj', 'm_jjj', 'm_lv', 'm_jlv', 'm_bb', 'm_wbb', 'm_wwbb']\n",
    "\n",
    "\n",
    "The first set of attributes are not highly corelated but the second set of values which are the calculated fields arr highly corelated, experimenting on these columns to check if they seperatly have impacts on models"
   ]
  },
  {
   "cell_type": "code",
   "execution_count": null,
   "metadata": {
    "colab": {
     "base_uri": "https://localhost:8080/"
    },
    "executionInfo": {
     "elapsed": 280,
     "status": "ok",
     "timestamp": 1651921194445,
     "user": {
      "displayName": "Asha G",
      "userId": "11159914543598210133"
     },
     "user_tz": -60
    },
    "id": "2SqqE-yrLOqL",
    "outputId": "1b128d5a-6796-44f6-db63-dd240c583b1b"
   },
   "outputs": [
    {
     "data": {
      "text/plain": [
       "(64965, 28)"
      ]
     },
     "execution_count": 177,
     "metadata": {},
     "output_type": "execute_result"
    }
   ],
   "source": [
    "X_train.shape"
   ]
  },
  {
   "cell_type": "code",
   "execution_count": null,
   "metadata": {
    "colab": {
     "base_uri": "https://localhost:8080/"
    },
    "executionInfo": {
     "elapsed": 209,
     "status": "ok",
     "timestamp": 1651919776247,
     "user": {
      "displayName": "Asha G",
      "userId": "11159914543598210133"
     },
     "user_tz": -60
    },
    "id": "1OJTetYIFz_V",
    "outputId": "e44f4f0d-9c91-4ac0-a3c3-ed6ea6754947"
   },
   "outputs": [
    {
     "data": {
      "text/plain": [
       "Index(['lepton_pT', 'lepton_eta', 'lepton_phi', 'missing_energy_magnitude',\n",
       "       'missing_energy_phi', 'jet1pt', 'jet1eta', 'jet1phi', 'jet1b-tag',\n",
       "       'jet2pt', 'jet2eta', 'jet2phi', 'jet2b-tag', 'jet3pt', 'jet3eta',\n",
       "       'jet3phi', 'jet3b-tag', 'jet4pt', 'jet4eta', 'jet4phi', 'jet4b-tag',\n",
       "       'm_jj', 'm_jjj', 'm_lv', 'm_jlv', 'm_bb', 'm_wbb', 'm_wwbb'],\n",
       "      dtype='object')"
      ]
     },
     "execution_count": 167,
     "metadata": {},
     "output_type": "execute_result"
    }
   ],
   "source": [
    "X_train.columns"
   ]
  },
  {
   "cell_type": "code",
   "execution_count": null,
   "metadata": {
    "id": "-x5WqiVBF0Bu"
   },
   "outputs": [],
   "source": [
    "X_train_high = X_train[['lepton_pT', 'lepton_eta', 'lepton_phi', 'missing_energy_magnitude',\n",
    "       'missing_energy_phi', 'jet1pt', 'jet1eta', 'jet1phi', 'jet1b-tag',\n",
    "       'jet2pt', 'jet2eta', 'jet2phi', 'jet2b-tag', 'jet3pt', 'jet3eta',\n",
    "       'jet3phi', 'jet3b-tag', 'jet4pt', 'jet4eta', 'jet4phi', 'jet4b-tag']]\n",
    "\n",
    "X_val_high = X_val[['lepton_pT', 'lepton_eta', 'lepton_phi', 'missing_energy_magnitude',\n",
    "       'missing_energy_phi', 'jet1pt', 'jet1eta', 'jet1phi', 'jet1b-tag',\n",
    "       'jet2pt', 'jet2eta', 'jet2phi', 'jet2b-tag', 'jet3pt', 'jet3eta',\n",
    "       'jet3phi', 'jet3b-tag', 'jet4pt', 'jet4eta', 'jet4phi', 'jet4b-tag']]"
   ]
  },
  {
   "cell_type": "code",
   "execution_count": null,
   "metadata": {
    "colab": {
     "base_uri": "https://localhost:8080/"
    },
    "executionInfo": {
     "elapsed": 33440,
     "status": "ok",
     "timestamp": 1651920252299,
     "user": {
      "displayName": "Asha G",
      "userId": "11159914543598210133"
     },
     "user_tz": -60
    },
    "id": "N2lbGtsGGbwR",
    "outputId": "4d75e88e-1471-4e8f-f00e-7ec1c0e6cb9d"
   },
   "outputs": [
    {
     "name": "stdout",
     "output_type": "stream",
     "text": [
      "Accuracy : \n",
      "0.6395622662418617\n",
      "Validation set results with 2 Hidden layers : \n",
      "              precision    recall  f1-score   support\n",
      "\n",
      "           0       0.62      0.57      0.59      3350\n",
      "           1       0.65      0.70      0.68      3869\n",
      "\n",
      "    accuracy                           0.64      7219\n",
      "   macro avg       0.64      0.63      0.64      7219\n",
      "weighted avg       0.64      0.64      0.64      7219\n",
      "\n"
     ]
    },
    {
     "name": "stderr",
     "output_type": "stream",
     "text": [
      "/usr/local/lib/python3.7/dist-packages/sklearn/neural_network/_multilayer_perceptron.py:696: ConvergenceWarning: Stochastic Optimizer: Maximum iterations (100) reached and the optimization hasn't converged yet.\n",
      "  ConvergenceWarning,\n"
     ]
    }
   ],
   "source": [
    "MLPClf_6 = MLPClassifier(hidden_layer_sizes = (25, 30), activation = 'relu', alpha = 0.001, learning_rate_init = 0.001, max_iter= 100, random_state= 5).fit(X_train_high, y_train)\n",
    "\n",
    "y_preds6=MLPClf_6.predict(X_val_high)\n",
    "print('Accuracy : ')\n",
    "print(MLPClf_6.score(X_val_high, y_val))\n",
    "print('Validation set results with 2 Hidden layers : ')\n",
    "print(classification_report(y_val, y_preds6))"
   ]
  },
  {
   "cell_type": "code",
   "execution_count": null,
   "metadata": {
    "colab": {
     "base_uri": "https://localhost:8080/"
    },
    "executionInfo": {
     "elapsed": 435,
     "status": "ok",
     "timestamp": 1651923156964,
     "user": {
      "displayName": "Asha G",
      "userId": "11159914543598210133"
     },
     "user_tz": -60
    },
    "id": "MdjzMSgoStuI",
    "outputId": "cbc65c30-04c3-4ece-c381-8c43652352e6"
   },
   "outputs": [
    {
     "data": {
      "text/plain": [
       "(64965, 7)"
      ]
     },
     "execution_count": 11,
     "metadata": {},
     "output_type": "execute_result"
    }
   ],
   "source": [
    "X_train_cal = X_train[['m_jj', 'm_jjj', 'm_lv', 'm_jlv', 'm_bb', 'm_wbb', 'm_wwbb']]\n",
    "\n",
    "X_val_cal = X_val[['m_jj', 'm_jjj', 'm_lv', 'm_jlv', 'm_bb', 'm_wbb', 'm_wwbb']]\n",
    "\n",
    "X_train_cal.shape"
   ]
  },
  {
   "cell_type": "code",
   "execution_count": null,
   "metadata": {
    "colab": {
     "base_uri": "https://localhost:8080/"
    },
    "executionInfo": {
     "elapsed": 54883,
     "status": "ok",
     "timestamp": 1651920582521,
     "user": {
      "displayName": "Asha G",
      "userId": "11159914543598210133"
     },
     "user_tz": -60
    },
    "id": "KTLlTt9cGbyf",
    "outputId": "4bc3c74b-a3dc-40a0-9cff-3179aa49a64e"
   },
   "outputs": [
    {
     "name": "stdout",
     "output_type": "stream",
     "text": [
      "Accuracy : \n",
      "0.6956642194209725\n",
      "Validation set results : \n",
      "              precision    recall  f1-score   support\n",
      "\n",
      "           0       0.67      0.67      0.67      3350\n",
      "           1       0.72      0.71      0.72      3869\n",
      "\n",
      "    accuracy                           0.70      7219\n",
      "   macro avg       0.69      0.69      0.69      7219\n",
      "weighted avg       0.70      0.70      0.70      7219\n",
      "\n"
     ]
    },
    {
     "name": "stderr",
     "output_type": "stream",
     "text": [
      "/usr/local/lib/python3.7/dist-packages/sklearn/neural_network/_multilayer_perceptron.py:696: ConvergenceWarning: Stochastic Optimizer: Maximum iterations (100) reached and the optimization hasn't converged yet.\n",
      "  ConvergenceWarning,\n"
     ]
    }
   ],
   "source": [
    "MLPClf_7 = MLPClassifier(hidden_layer_sizes = (25, 30), activation = 'relu', alpha = 0.001, learning_rate_init = 0.001, max_iter= 100, random_state= 5).fit(X_train_cal, y_train)\n",
    "\n",
    "y_preds7=MLPClf_7.predict(X_val_cal)\n",
    "print('Accuracy : ')\n",
    "print(MLPClf_7.score(X_val_cal, y_val))\n",
    "print('Validation set results : ')\n",
    "print(classification_report(y_val, y_preds7))"
   ]
  },
  {
   "cell_type": "code",
   "execution_count": null,
   "metadata": {
    "colab": {
     "base_uri": "https://localhost:8080/"
    },
    "executionInfo": {
     "elapsed": 1595,
     "status": "ok",
     "timestamp": 1651935377353,
     "user": {
      "displayName": "Asha G",
      "userId": "11159914543598210133"
     },
     "user_tz": -60
    },
    "id": "7P6kOkNZ9nKp",
    "outputId": "4fabd9cf-5b14-4fe5-b801-ff83b0630312"
   },
   "outputs": [
    {
     "data": {
      "text/plain": [
       "(7200, 7)"
      ]
     },
     "execution_count": 24,
     "metadata": {},
     "output_type": "execute_result"
    }
   ],
   "source": [
    "X_train_cal = X_train_sample[['m_jj', 'm_jjj', 'm_lv', 'm_jlv', 'm_bb', 'm_wbb', 'm_wwbb']]\n",
    "\n",
    "X_val_cal = X_val_sample[['m_jj', 'm_jjj', 'm_lv', 'm_jlv', 'm_bb', 'm_wbb', 'm_wwbb']]\n",
    "\n",
    "X_train_cal.shape"
   ]
  },
  {
   "cell_type": "code",
   "execution_count": null,
   "metadata": {
    "colab": {
     "base_uri": "https://localhost:8080/"
    },
    "executionInfo": {
     "elapsed": 5128576,
     "status": "ok",
     "timestamp": 1651940509581,
     "user": {
      "displayName": "Asha G",
      "userId": "11159914543598210133"
     },
     "user_tz": -60
    },
    "id": "vvRVpKK8JIFk",
    "outputId": "0ea4e52b-2149-436a-a00a-7fff0c5410b0"
   },
   "outputs": [
    {
     "name": "stdout",
     "output_type": "stream",
     "text": [
      "Fitting 5 folds for each of 648 candidates, totalling 3240 fits\n",
      "{'activation': 'relu', 'alpha': 0.001, 'hidden_layer_sizes': (25, 35), 'learning_rate_init': 0.005, 'max_iter': 300, 'random_state': 10}\n"
     ]
    },
    {
     "data": {
      "text/plain": [
       "['drive/My Drive/ColabNotebooks/NN/CourseWork/HiggsDetection_NeuralComputing/SavedModels/MLP/MLP_Grid_clf7_aftercol_calcol.pkl']"
      ]
     },
     "execution_count": 25,
     "metadata": {},
     "output_type": "execute_result"
    }
   ],
   "source": [
    "parameters = { 'max_iter': [100, 300, 500  ],  'random_state':[5, 10, 20], 'alpha': [0.0001, 0.001, 0.01], 'learning_rate_init' : [0.05, 0.01, 0.005, 0.001], \n",
    "              'hidden_layer_sizes': [5 , 10, (10, 30), 25 , (25, 35) , 50 ], 'activation' : ['relu'] }\n",
    "# parameters = {'activation' : ['logistic', 'relu', 'tanh']}\n",
    "\n",
    "clf7 = GridSearchCV(MLPClassifier(), parameters, n_jobs=-1, verbose=4).fit(X_train_cal, y_train_sample)\n",
    "print(clf7.best_params_)\n",
    "\n",
    "\n",
    "GOOGLE_MODELS_SAVED = GOOGLE_DRIVE_PATH + '/SavedModels/MLP'\n",
    "\n",
    "joblib.dump(clf7, GOOGLE_MODELS_SAVED + '/MLP_Grid_clf7_aftercol_calcol.pkl')"
   ]
  },
  {
   "cell_type": "code",
   "execution_count": null,
   "metadata": {
    "colab": {
     "base_uri": "https://localhost:8080/",
     "height": 1000
    },
    "executionInfo": {
     "elapsed": 405,
     "status": "ok",
     "timestamp": 1651944321195,
     "user": {
      "displayName": "Asha G",
      "userId": "11159914543598210133"
     },
     "user_tz": -60
    },
    "id": "oily5fmVjdKy",
    "outputId": "0b66e5a7-0f47-461a-cc7e-adda72e90ab6"
   },
   "outputs": [
    {
     "data": {
      "text/html": [
       "\n",
       "  <div id=\"df-dde94cac-58aa-4a80-82a5-ecf6d7d9cc55\">\n",
       "    <div class=\"colab-df-container\">\n",
       "      <div>\n",
       "<style scoped>\n",
       "    .dataframe tbody tr th:only-of-type {\n",
       "        vertical-align: middle;\n",
       "    }\n",
       "\n",
       "    .dataframe tbody tr th {\n",
       "        vertical-align: top;\n",
       "    }\n",
       "\n",
       "    .dataframe thead th {\n",
       "        text-align: right;\n",
       "    }\n",
       "</style>\n",
       "<table border=\"1\" class=\"dataframe\">\n",
       "  <thead>\n",
       "    <tr style=\"text-align: right;\">\n",
       "      <th></th>\n",
       "      <th>mean_fit_time</th>\n",
       "      <th>std_fit_time</th>\n",
       "      <th>mean_score_time</th>\n",
       "      <th>std_score_time</th>\n",
       "      <th>param_activation</th>\n",
       "      <th>param_alpha</th>\n",
       "      <th>param_hidden_layer_sizes</th>\n",
       "      <th>param_learning_rate_init</th>\n",
       "      <th>param_max_iter</th>\n",
       "      <th>param_random_state</th>\n",
       "      <th>params</th>\n",
       "      <th>split0_test_score</th>\n",
       "      <th>split1_test_score</th>\n",
       "      <th>split2_test_score</th>\n",
       "      <th>split3_test_score</th>\n",
       "      <th>split4_test_score</th>\n",
       "      <th>mean_test_score</th>\n",
       "      <th>std_test_score</th>\n",
       "      <th>rank_test_score</th>\n",
       "    </tr>\n",
       "  </thead>\n",
       "  <tbody>\n",
       "    <tr>\n",
       "      <th>0</th>\n",
       "      <td>0.440281</td>\n",
       "      <td>0.252509</td>\n",
       "      <td>0.003711</td>\n",
       "      <td>0.000639</td>\n",
       "      <td>relu</td>\n",
       "      <td>0.0001</td>\n",
       "      <td>5</td>\n",
       "      <td>0.05</td>\n",
       "      <td>100</td>\n",
       "      <td>5</td>\n",
       "      <td>{'activation': 'relu', 'alpha': 0.0001, 'hidde...</td>\n",
       "      <td>0.536111</td>\n",
       "      <td>0.536111</td>\n",
       "      <td>0.536111</td>\n",
       "      <td>0.536111</td>\n",
       "      <td>0.613194</td>\n",
       "      <td>0.551528</td>\n",
       "      <td>0.030833</td>\n",
       "      <td>646</td>\n",
       "    </tr>\n",
       "    <tr>\n",
       "      <th>1</th>\n",
       "      <td>1.271991</td>\n",
       "      <td>0.279760</td>\n",
       "      <td>0.003469</td>\n",
       "      <td>0.000522</td>\n",
       "      <td>relu</td>\n",
       "      <td>0.0001</td>\n",
       "      <td>5</td>\n",
       "      <td>0.05</td>\n",
       "      <td>100</td>\n",
       "      <td>10</td>\n",
       "      <td>{'activation': 'relu', 'alpha': 0.0001, 'hidde...</td>\n",
       "      <td>0.652083</td>\n",
       "      <td>0.620833</td>\n",
       "      <td>0.634028</td>\n",
       "      <td>0.627778</td>\n",
       "      <td>0.621528</td>\n",
       "      <td>0.631250</td>\n",
       "      <td>0.011461</td>\n",
       "      <td>607</td>\n",
       "    </tr>\n",
       "    <tr>\n",
       "      <th>2</th>\n",
       "      <td>1.832831</td>\n",
       "      <td>0.338331</td>\n",
       "      <td>0.003322</td>\n",
       "      <td>0.000289</td>\n",
       "      <td>relu</td>\n",
       "      <td>0.0001</td>\n",
       "      <td>5</td>\n",
       "      <td>0.05</td>\n",
       "      <td>100</td>\n",
       "      <td>20</td>\n",
       "      <td>{'activation': 'relu', 'alpha': 0.0001, 'hidde...</td>\n",
       "      <td>0.640972</td>\n",
       "      <td>0.625000</td>\n",
       "      <td>0.618056</td>\n",
       "      <td>0.633333</td>\n",
       "      <td>0.624306</td>\n",
       "      <td>0.628333</td>\n",
       "      <td>0.007971</td>\n",
       "      <td>616</td>\n",
       "    </tr>\n",
       "    <tr>\n",
       "      <th>3</th>\n",
       "      <td>0.816501</td>\n",
       "      <td>0.502040</td>\n",
       "      <td>0.004472</td>\n",
       "      <td>0.002829</td>\n",
       "      <td>relu</td>\n",
       "      <td>0.0001</td>\n",
       "      <td>5</td>\n",
       "      <td>0.05</td>\n",
       "      <td>300</td>\n",
       "      <td>5</td>\n",
       "      <td>{'activation': 'relu', 'alpha': 0.0001, 'hidde...</td>\n",
       "      <td>0.536111</td>\n",
       "      <td>0.536111</td>\n",
       "      <td>0.536111</td>\n",
       "      <td>0.536111</td>\n",
       "      <td>0.613194</td>\n",
       "      <td>0.551528</td>\n",
       "      <td>0.030833</td>\n",
       "      <td>646</td>\n",
       "    </tr>\n",
       "    <tr>\n",
       "      <th>4</th>\n",
       "      <td>2.220341</td>\n",
       "      <td>0.349802</td>\n",
       "      <td>0.003038</td>\n",
       "      <td>0.000404</td>\n",
       "      <td>relu</td>\n",
       "      <td>0.0001</td>\n",
       "      <td>5</td>\n",
       "      <td>0.05</td>\n",
       "      <td>300</td>\n",
       "      <td>10</td>\n",
       "      <td>{'activation': 'relu', 'alpha': 0.0001, 'hidde...</td>\n",
       "      <td>0.652083</td>\n",
       "      <td>0.620833</td>\n",
       "      <td>0.634028</td>\n",
       "      <td>0.627778</td>\n",
       "      <td>0.621528</td>\n",
       "      <td>0.631250</td>\n",
       "      <td>0.011461</td>\n",
       "      <td>607</td>\n",
       "    </tr>\n",
       "    <tr>\n",
       "      <th>...</th>\n",
       "      <td>...</td>\n",
       "      <td>...</td>\n",
       "      <td>...</td>\n",
       "      <td>...</td>\n",
       "      <td>...</td>\n",
       "      <td>...</td>\n",
       "      <td>...</td>\n",
       "      <td>...</td>\n",
       "      <td>...</td>\n",
       "      <td>...</td>\n",
       "      <td>...</td>\n",
       "      <td>...</td>\n",
       "      <td>...</td>\n",
       "      <td>...</td>\n",
       "      <td>...</td>\n",
       "      <td>...</td>\n",
       "      <td>...</td>\n",
       "      <td>...</td>\n",
       "      <td>...</td>\n",
       "    </tr>\n",
       "    <tr>\n",
       "      <th>643</th>\n",
       "      <td>7.738694</td>\n",
       "      <td>0.574507</td>\n",
       "      <td>0.003953</td>\n",
       "      <td>0.000178</td>\n",
       "      <td>relu</td>\n",
       "      <td>0.01</td>\n",
       "      <td>50</td>\n",
       "      <td>0.001</td>\n",
       "      <td>300</td>\n",
       "      <td>10</td>\n",
       "      <td>{'activation': 'relu', 'alpha': 0.01, 'hidden_...</td>\n",
       "      <td>0.678472</td>\n",
       "      <td>0.666667</td>\n",
       "      <td>0.684028</td>\n",
       "      <td>0.697222</td>\n",
       "      <td>0.663194</td>\n",
       "      <td>0.677917</td>\n",
       "      <td>0.012277</td>\n",
       "      <td>152</td>\n",
       "    </tr>\n",
       "    <tr>\n",
       "      <th>644</th>\n",
       "      <td>7.591255</td>\n",
       "      <td>0.527575</td>\n",
       "      <td>0.003832</td>\n",
       "      <td>0.000234</td>\n",
       "      <td>relu</td>\n",
       "      <td>0.01</td>\n",
       "      <td>50</td>\n",
       "      <td>0.001</td>\n",
       "      <td>300</td>\n",
       "      <td>20</td>\n",
       "      <td>{'activation': 'relu', 'alpha': 0.01, 'hidden_...</td>\n",
       "      <td>0.668056</td>\n",
       "      <td>0.665972</td>\n",
       "      <td>0.682639</td>\n",
       "      <td>0.679861</td>\n",
       "      <td>0.659722</td>\n",
       "      <td>0.671250</td>\n",
       "      <td>0.008658</td>\n",
       "      <td>240</td>\n",
       "    </tr>\n",
       "    <tr>\n",
       "      <th>645</th>\n",
       "      <td>8.316577</td>\n",
       "      <td>0.739338</td>\n",
       "      <td>0.003941</td>\n",
       "      <td>0.000134</td>\n",
       "      <td>relu</td>\n",
       "      <td>0.01</td>\n",
       "      <td>50</td>\n",
       "      <td>0.001</td>\n",
       "      <td>500</td>\n",
       "      <td>5</td>\n",
       "      <td>{'activation': 'relu', 'alpha': 0.01, 'hidden_...</td>\n",
       "      <td>0.681250</td>\n",
       "      <td>0.680556</td>\n",
       "      <td>0.693056</td>\n",
       "      <td>0.702778</td>\n",
       "      <td>0.670139</td>\n",
       "      <td>0.685556</td>\n",
       "      <td>0.011261</td>\n",
       "      <td>47</td>\n",
       "    </tr>\n",
       "    <tr>\n",
       "      <th>646</th>\n",
       "      <td>8.772695</td>\n",
       "      <td>2.099852</td>\n",
       "      <td>0.004692</td>\n",
       "      <td>0.001384</td>\n",
       "      <td>relu</td>\n",
       "      <td>0.01</td>\n",
       "      <td>50</td>\n",
       "      <td>0.001</td>\n",
       "      <td>500</td>\n",
       "      <td>10</td>\n",
       "      <td>{'activation': 'relu', 'alpha': 0.01, 'hidden_...</td>\n",
       "      <td>0.678472</td>\n",
       "      <td>0.675694</td>\n",
       "      <td>0.693056</td>\n",
       "      <td>0.702778</td>\n",
       "      <td>0.663194</td>\n",
       "      <td>0.682639</td>\n",
       "      <td>0.013840</td>\n",
       "      <td>89</td>\n",
       "    </tr>\n",
       "    <tr>\n",
       "      <th>647</th>\n",
       "      <td>7.582081</td>\n",
       "      <td>1.077411</td>\n",
       "      <td>0.003580</td>\n",
       "      <td>0.000618</td>\n",
       "      <td>relu</td>\n",
       "      <td>0.01</td>\n",
       "      <td>50</td>\n",
       "      <td>0.001</td>\n",
       "      <td>500</td>\n",
       "      <td>20</td>\n",
       "      <td>{'activation': 'relu', 'alpha': 0.01, 'hidden_...</td>\n",
       "      <td>0.668056</td>\n",
       "      <td>0.668750</td>\n",
       "      <td>0.681250</td>\n",
       "      <td>0.697222</td>\n",
       "      <td>0.671528</td>\n",
       "      <td>0.677361</td>\n",
       "      <td>0.010994</td>\n",
       "      <td>156</td>\n",
       "    </tr>\n",
       "  </tbody>\n",
       "</table>\n",
       "<p>648 rows × 19 columns</p>\n",
       "</div>\n",
       "      <button class=\"colab-df-convert\" onclick=\"convertToInteractive('df-dde94cac-58aa-4a80-82a5-ecf6d7d9cc55')\"\n",
       "              title=\"Convert this dataframe to an interactive table.\"\n",
       "              style=\"display:none;\">\n",
       "        \n",
       "  <svg xmlns=\"http://www.w3.org/2000/svg\" height=\"24px\"viewBox=\"0 0 24 24\"\n",
       "       width=\"24px\">\n",
       "    <path d=\"M0 0h24v24H0V0z\" fill=\"none\"/>\n",
       "    <path d=\"M18.56 5.44l.94 2.06.94-2.06 2.06-.94-2.06-.94-.94-2.06-.94 2.06-2.06.94zm-11 1L8.5 8.5l.94-2.06 2.06-.94-2.06-.94L8.5 2.5l-.94 2.06-2.06.94zm10 10l.94 2.06.94-2.06 2.06-.94-2.06-.94-.94-2.06-.94 2.06-2.06.94z\"/><path d=\"M17.41 7.96l-1.37-1.37c-.4-.4-.92-.59-1.43-.59-.52 0-1.04.2-1.43.59L10.3 9.45l-7.72 7.72c-.78.78-.78 2.05 0 2.83L4 21.41c.39.39.9.59 1.41.59.51 0 1.02-.2 1.41-.59l7.78-7.78 2.81-2.81c.8-.78.8-2.07 0-2.86zM5.41 20L4 18.59l7.72-7.72 1.47 1.35L5.41 20z\"/>\n",
       "  </svg>\n",
       "      </button>\n",
       "      \n",
       "  <style>\n",
       "    .colab-df-container {\n",
       "      display:flex;\n",
       "      flex-wrap:wrap;\n",
       "      gap: 12px;\n",
       "    }\n",
       "\n",
       "    .colab-df-convert {\n",
       "      background-color: #E8F0FE;\n",
       "      border: none;\n",
       "      border-radius: 50%;\n",
       "      cursor: pointer;\n",
       "      display: none;\n",
       "      fill: #1967D2;\n",
       "      height: 32px;\n",
       "      padding: 0 0 0 0;\n",
       "      width: 32px;\n",
       "    }\n",
       "\n",
       "    .colab-df-convert:hover {\n",
       "      background-color: #E2EBFA;\n",
       "      box-shadow: 0px 1px 2px rgba(60, 64, 67, 0.3), 0px 1px 3px 1px rgba(60, 64, 67, 0.15);\n",
       "      fill: #174EA6;\n",
       "    }\n",
       "\n",
       "    [theme=dark] .colab-df-convert {\n",
       "      background-color: #3B4455;\n",
       "      fill: #D2E3FC;\n",
       "    }\n",
       "\n",
       "    [theme=dark] .colab-df-convert:hover {\n",
       "      background-color: #434B5C;\n",
       "      box-shadow: 0px 1px 3px 1px rgba(0, 0, 0, 0.15);\n",
       "      filter: drop-shadow(0px 1px 2px rgba(0, 0, 0, 0.3));\n",
       "      fill: #FFFFFF;\n",
       "    }\n",
       "  </style>\n",
       "\n",
       "      <script>\n",
       "        const buttonEl =\n",
       "          document.querySelector('#df-dde94cac-58aa-4a80-82a5-ecf6d7d9cc55 button.colab-df-convert');\n",
       "        buttonEl.style.display =\n",
       "          google.colab.kernel.accessAllowed ? 'block' : 'none';\n",
       "\n",
       "        async function convertToInteractive(key) {\n",
       "          const element = document.querySelector('#df-dde94cac-58aa-4a80-82a5-ecf6d7d9cc55');\n",
       "          const dataTable =\n",
       "            await google.colab.kernel.invokeFunction('convertToInteractive',\n",
       "                                                     [key], {});\n",
       "          if (!dataTable) return;\n",
       "\n",
       "          const docLinkHtml = 'Like what you see? Visit the ' +\n",
       "            '<a target=\"_blank\" href=https://colab.research.google.com/notebooks/data_table.ipynb>data table notebook</a>'\n",
       "            + ' to learn more about interactive tables.';\n",
       "          element.innerHTML = '';\n",
       "          dataTable['output_type'] = 'display_data';\n",
       "          await google.colab.output.renderOutput(dataTable, element);\n",
       "          const docLink = document.createElement('div');\n",
       "          docLink.innerHTML = docLinkHtml;\n",
       "          element.appendChild(docLink);\n",
       "        }\n",
       "      </script>\n",
       "    </div>\n",
       "  </div>\n",
       "  "
      ],
      "text/plain": [
       "     mean_fit_time  std_fit_time  mean_score_time  std_score_time  \\\n",
       "0         0.440281      0.252509         0.003711        0.000639   \n",
       "1         1.271991      0.279760         0.003469        0.000522   \n",
       "2         1.832831      0.338331         0.003322        0.000289   \n",
       "3         0.816501      0.502040         0.004472        0.002829   \n",
       "4         2.220341      0.349802         0.003038        0.000404   \n",
       "..             ...           ...              ...             ...   \n",
       "643       7.738694      0.574507         0.003953        0.000178   \n",
       "644       7.591255      0.527575         0.003832        0.000234   \n",
       "645       8.316577      0.739338         0.003941        0.000134   \n",
       "646       8.772695      2.099852         0.004692        0.001384   \n",
       "647       7.582081      1.077411         0.003580        0.000618   \n",
       "\n",
       "    param_activation param_alpha param_hidden_layer_sizes  \\\n",
       "0               relu      0.0001                        5   \n",
       "1               relu      0.0001                        5   \n",
       "2               relu      0.0001                        5   \n",
       "3               relu      0.0001                        5   \n",
       "4               relu      0.0001                        5   \n",
       "..               ...         ...                      ...   \n",
       "643             relu        0.01                       50   \n",
       "644             relu        0.01                       50   \n",
       "645             relu        0.01                       50   \n",
       "646             relu        0.01                       50   \n",
       "647             relu        0.01                       50   \n",
       "\n",
       "    param_learning_rate_init param_max_iter param_random_state  \\\n",
       "0                       0.05            100                  5   \n",
       "1                       0.05            100                 10   \n",
       "2                       0.05            100                 20   \n",
       "3                       0.05            300                  5   \n",
       "4                       0.05            300                 10   \n",
       "..                       ...            ...                ...   \n",
       "643                    0.001            300                 10   \n",
       "644                    0.001            300                 20   \n",
       "645                    0.001            500                  5   \n",
       "646                    0.001            500                 10   \n",
       "647                    0.001            500                 20   \n",
       "\n",
       "                                                params  split0_test_score  \\\n",
       "0    {'activation': 'relu', 'alpha': 0.0001, 'hidde...           0.536111   \n",
       "1    {'activation': 'relu', 'alpha': 0.0001, 'hidde...           0.652083   \n",
       "2    {'activation': 'relu', 'alpha': 0.0001, 'hidde...           0.640972   \n",
       "3    {'activation': 'relu', 'alpha': 0.0001, 'hidde...           0.536111   \n",
       "4    {'activation': 'relu', 'alpha': 0.0001, 'hidde...           0.652083   \n",
       "..                                                 ...                ...   \n",
       "643  {'activation': 'relu', 'alpha': 0.01, 'hidden_...           0.678472   \n",
       "644  {'activation': 'relu', 'alpha': 0.01, 'hidden_...           0.668056   \n",
       "645  {'activation': 'relu', 'alpha': 0.01, 'hidden_...           0.681250   \n",
       "646  {'activation': 'relu', 'alpha': 0.01, 'hidden_...           0.678472   \n",
       "647  {'activation': 'relu', 'alpha': 0.01, 'hidden_...           0.668056   \n",
       "\n",
       "     split1_test_score  split2_test_score  split3_test_score  \\\n",
       "0             0.536111           0.536111           0.536111   \n",
       "1             0.620833           0.634028           0.627778   \n",
       "2             0.625000           0.618056           0.633333   \n",
       "3             0.536111           0.536111           0.536111   \n",
       "4             0.620833           0.634028           0.627778   \n",
       "..                 ...                ...                ...   \n",
       "643           0.666667           0.684028           0.697222   \n",
       "644           0.665972           0.682639           0.679861   \n",
       "645           0.680556           0.693056           0.702778   \n",
       "646           0.675694           0.693056           0.702778   \n",
       "647           0.668750           0.681250           0.697222   \n",
       "\n",
       "     split4_test_score  mean_test_score  std_test_score  rank_test_score  \n",
       "0             0.613194         0.551528        0.030833              646  \n",
       "1             0.621528         0.631250        0.011461              607  \n",
       "2             0.624306         0.628333        0.007971              616  \n",
       "3             0.613194         0.551528        0.030833              646  \n",
       "4             0.621528         0.631250        0.011461              607  \n",
       "..                 ...              ...             ...              ...  \n",
       "643           0.663194         0.677917        0.012277              152  \n",
       "644           0.659722         0.671250        0.008658              240  \n",
       "645           0.670139         0.685556        0.011261               47  \n",
       "646           0.663194         0.682639        0.013840               89  \n",
       "647           0.671528         0.677361        0.010994              156  \n",
       "\n",
       "[648 rows x 19 columns]"
      ]
     },
     "execution_count": 31,
     "metadata": {},
     "output_type": "execute_result"
    }
   ],
   "source": [
    "pd.DataFrame(clf7.cv_results_)"
   ]
  },
  {
   "cell_type": "markdown",
   "metadata": {
    "id": "lvWU_F3U-kQ_"
   },
   "source": [
    "**RESULTS**\n",
    "\n",
    "*In the above implementation it can be observed that the calculated fields alone ['m_jj', 'm_jjj', 'm_lv', 'm_jlv', 'm_bb', 'm_wbb', 'm_wwbb'] produce 70% accuracy on validation set. Because they are highly corelated, this could lead to overfitting and so we are not going to use only these variables to create model, we are going to stick with the previous approch where PCA was 0.99*\n",
    "\n"
   ]
  },
  {
   "cell_type": "markdown",
   "metadata": {
    "id": "0BGR9Imx_mmF"
   },
   "source": [
    "**BEST SET OF PARAMETERS TRAINING**\n",
    "\n",
    "From all the above observations the best set of parameters are chosen and MLP is trained \n",
    "\n"
   ]
  },
  {
   "cell_type": "code",
   "execution_count": null,
   "metadata": {
    "colab": {
     "base_uri": "https://localhost:8080/"
    },
    "executionInfo": {
     "elapsed": 64759,
     "status": "ok",
     "timestamp": 1651944224750,
     "user": {
      "displayName": "Asha G",
      "userId": "11159914543598210133"
     },
     "user_tz": -60
    },
    "id": "6JfnASdBQ4NX",
    "outputId": "bc027870-f521-427a-84d5-4dd28575e16c"
   },
   "outputs": [
    {
     "name": "stdout",
     "output_type": "stream",
     "text": [
      "Accuracy : \n",
      "0.7168582906219698\n",
      "Validation set results with 2 Hidden layers : \n",
      "              precision    recall  f1-score   support\n",
      "\n",
      "           0       0.69      0.71      0.70      3350\n",
      "           1       0.74      0.72      0.73      3869\n",
      "\n",
      "    accuracy                           0.72      7219\n",
      "   macro avg       0.72      0.72      0.72      7219\n",
      "weighted avg       0.72      0.72      0.72      7219\n",
      "\n"
     ]
    }
   ],
   "source": [
    "MLPClf_8 = MLPClassifier(hidden_layer_sizes = (25, 35), activation = 'relu', alpha = 0.001, learning_rate_init = 0.005, max_iter= 300, random_state= 10).fit(X_train, y_train)\n",
    "\n",
    "y_preds8=MLPClf_8.predict(X_val)\n",
    "print('Accuracy : ')\n",
    "print(MLPClf_8.score(X_val, y_val))\n",
    "print('Validation set results with 2 Hidden layers : ')\n",
    "print(classification_report(y_val, y_preds8))"
   ]
  },
  {
   "cell_type": "markdown",
   "metadata": {
    "id": "XTfdA-Y5BT9Q"
   },
   "source": [
    "**Model parameter chosen from paper** \n",
    "\n",
    "These set of parameters are chosen from the ref paper \"*Searching for exotic particles in high-energy physics with deep learning by P. Baldi, P. Sadowski & D. Whiteson*\". not all parameters are mentioned, so building on ehat is mentioned and the rest we are choosing from the above observed parameters\n",
    "\n",
    "\n"
   ]
  },
  {
   "cell_type": "code",
   "execution_count": null,
   "metadata": {
    "colab": {
     "base_uri": "https://localhost:8080/"
    },
    "executionInfo": {
     "elapsed": 126754,
     "status": "ok",
     "timestamp": 1651948119276,
     "user": {
      "displayName": "Asha G",
      "userId": "11159914543598210133"
     },
     "user_tz": -60
    },
    "id": "k96D_QQnw71-",
    "outputId": "d4cfc42c-7b84-4eab-8ba7-ff80a39a1432"
   },
   "outputs": [
    {
     "name": "stdout",
     "output_type": "stream",
     "text": [
      "Accuracy : \n",
      "0.64625\n",
      "Validation set results with 2 Hidden layers : \n",
      "              precision    recall  f1-score   support\n",
      "\n",
      "           0       0.59      0.82      0.68       373\n",
      "           1       0.76      0.49      0.60       427\n",
      "\n",
      "    accuracy                           0.65       800\n",
      "   macro avg       0.67      0.66      0.64       800\n",
      "weighted avg       0.68      0.65      0.64       800\n",
      "\n"
     ]
    }
   ],
   "source": [
    "MLPClf_10 = MLPClassifier(hidden_layer_sizes = (300, 300, 300, 300, 300), activation = 'relu', alpha = 0.001, learning_rate_init = 0.005, max_iter= 300, random_state= 10).fit(X_train_sample , y_train_sample)\n",
    "\n",
    "y_preds10=MLPClf_10.predict(X_val_sample)\n",
    "print('Accuracy : ')\n",
    "print(MLPClf_10.score(X_val_sample, y_val_sample))\n",
    "print('Validation set results with 2 Hidden layers : ')\n",
    "print(classification_report(y_val_sample, y_preds10))"
   ]
  },
  {
   "cell_type": "code",
   "execution_count": null,
   "metadata": {
    "id": "KyzIvWPnl-Sv"
   },
   "outputs": [],
   "source": []
  },
  {
   "cell_type": "markdown",
   "metadata": {
    "id": "3wsX16Nu6U1c"
   },
   "source": [
    "# Best Model Training \n",
    "\n"
   ]
  },
  {
   "cell_type": "markdown",
   "metadata": {
    "id": "Zzh35M8H6FTX"
   },
   "source": [
    "Best set of parameters in whole dataset {'activation': 'relu', 'alpha': 0.001, 'hidden_layer_sizes': 50, 'learning_rate_init': 0.001, 'max_iter': 100, 'random_state': 5}\n",
    "\n",
    "Standardize and PCA 0.99\n",
    "\n"
   ]
  },
  {
   "cell_type": "code",
   "execution_count": 11,
   "metadata": {
    "colab": {
     "base_uri": "https://localhost:8080/"
    },
    "executionInfo": {
     "elapsed": 813,
     "status": "ok",
     "timestamp": 1652004960622,
     "user": {
      "displayName": "Asha G",
      "userId": "11159914543598210133"
     },
     "user_tz": -60
    },
    "id": "CZA7IL3PBMg7",
    "outputId": "440a0ee7-5059-4c95-f6e1-04f232df2133"
   },
   "outputs": [
    {
     "data": {
      "text/plain": [
       "(69305, 27)"
      ]
     },
     "execution_count": 11,
     "metadata": {},
     "output_type": "execute_result"
    }
   ],
   "source": [
    "scaler = StandardScaler()  \n",
    "scaler.fit(X_train)\n",
    "# Apply transform to both the training set and the test set.\n",
    "X_train_F = scaler.transform(X_train)\n",
    "X_val_F = scaler.transform(X_val)\n",
    "\n",
    "from sklearn.decomposition import PCA\n",
    "# Make an instance of the Model\n",
    "pca = PCA(.99)\n",
    "\n",
    "pca.fit(X_train_F)\n",
    "\n",
    "X_train_F = pca.transform(X_train_F)\n",
    "X_val_F = pca.transform(X_val_F)\n",
    "\n",
    "X_train_F.shape"
   ]
  },
  {
   "cell_type": "code",
   "execution_count": 38,
   "metadata": {
    "colab": {
     "base_uri": "https://localhost:8080/"
    },
    "executionInfo": {
     "elapsed": 60504,
     "status": "ok",
     "timestamp": 1652006730222,
     "user": {
      "displayName": "Asha G",
      "userId": "11159914543598210133"
     },
     "user_tz": -60
    },
    "id": "VncXnOtx4bkZ",
    "outputId": "da8a42ae-48c3-458b-8b72-81800c163863"
   },
   "outputs": [
    {
     "name": "stdout",
     "output_type": "stream",
     "text": [
      "Accuracy : \n",
      "0.714582521750422\n",
      "Validation set results  : \n",
      "              precision    recall  f1-score   support\n",
      "\n",
      "           0       0.70      0.68      0.69      3565\n",
      "           1       0.73      0.74      0.74      4136\n",
      "\n",
      "    accuracy                           0.71      7701\n",
      "   macro avg       0.71      0.71      0.71      7701\n",
      "weighted avg       0.71      0.71      0.71      7701\n",
      "\n"
     ]
    }
   ],
   "source": [
    "MLPClf_final = MLPClassifier(activation =  'relu', alpha = 0.001, hidden_layer_sizes = (25, 35), learning_rate_init = 0.005, max_iter = 300, random_state = 10).fit(X_train_F, y_train)\n",
    "\n",
    "y_preds5=MLPClf_final.predict(X_val_F)\n",
    "print('Accuracy : ')\n",
    "print(MLPClf_final.score(X_val_F, y_val))\n",
    "print('Validation set results  : ')\n",
    "print(classification_report(y_val, y_preds5))"
   ]
  },
  {
   "cell_type": "code",
   "execution_count": null,
   "metadata": {
    "colab": {
     "base_uri": "https://localhost:8080/"
    },
    "executionInfo": {
     "elapsed": 392,
     "status": "ok",
     "timestamp": 1651952215524,
     "user": {
      "displayName": "Asha G",
      "userId": "11159914543598210133"
     },
     "user_tz": -60
    },
    "id": "tqnOYMnt9AwB",
    "outputId": "bb9a82a9-b93d-43d0-e0ea-bfffac386d45"
   },
   "outputs": [
    {
     "data": {
      "text/plain": [
       "{'activation': 'relu',\n",
       " 'alpha': 0.001,\n",
       " 'batch_size': 'auto',\n",
       " 'beta_1': 0.9,\n",
       " 'beta_2': 0.999,\n",
       " 'early_stopping': False,\n",
       " 'epsilon': 1e-08,\n",
       " 'hidden_layer_sizes': (25, 30),\n",
       " 'learning_rate': 'constant',\n",
       " 'learning_rate_init': 0.001,\n",
       " 'max_fun': 15000,\n",
       " 'max_iter': 100,\n",
       " 'momentum': 0.9,\n",
       " 'n_iter_no_change': 10,\n",
       " 'nesterovs_momentum': True,\n",
       " 'power_t': 0.5,\n",
       " 'random_state': 10,\n",
       " 'shuffle': True,\n",
       " 'solver': 'adam',\n",
       " 'tol': 0.0001,\n",
       " 'validation_fraction': 0.1,\n",
       " 'verbose': False,\n",
       " 'warm_start': False}"
      ]
     },
     "execution_count": 45,
     "metadata": {},
     "output_type": "execute_result"
    }
   ],
   "source": [
    "MLPClf_final.get_params()"
   ]
  },
  {
   "cell_type": "code",
   "execution_count": 15,
   "metadata": {
    "colab": {
     "base_uri": "https://localhost:8080/"
    },
    "executionInfo": {
     "elapsed": 317876,
     "status": "ok",
     "timestamp": 1651991487585,
     "user": {
      "displayName": "Asha G",
      "userId": "11159914543598210133"
     },
     "user_tz": -60
    },
    "id": "V-8VUB0VZfph",
    "outputId": "d8e832f0-892f-4c8e-c6aa-38d28abdb9fa"
   },
   "outputs": [
    {
     "name": "stderr",
     "output_type": "stream",
     "text": [
      "/usr/local/lib/python3.7/dist-packages/sklearn/neural_network/_multilayer_perceptron.py:696: ConvergenceWarning: Stochastic Optimizer: Maximum iterations (300) reached and the optimization hasn't converged yet.\n",
      "  ConvergenceWarning,\n",
      "/usr/local/lib/python3.7/dist-packages/sklearn/neural_network/_multilayer_perceptron.py:696: ConvergenceWarning: Stochastic Optimizer: Maximum iterations (300) reached and the optimization hasn't converged yet.\n",
      "  ConvergenceWarning,\n",
      "/usr/local/lib/python3.7/dist-packages/sklearn/neural_network/_multilayer_perceptron.py:696: ConvergenceWarning: Stochastic Optimizer: Maximum iterations (300) reached and the optimization hasn't converged yet.\n",
      "  ConvergenceWarning,\n",
      "/usr/local/lib/python3.7/dist-packages/sklearn/neural_network/_multilayer_perceptron.py:696: ConvergenceWarning: Stochastic Optimizer: Maximum iterations (300) reached and the optimization hasn't converged yet.\n",
      "  ConvergenceWarning,\n"
     ]
    },
    {
     "data": {
      "text/plain": [
       "array([0.7055768 , 0.71351273, 0.70961691, 0.70781329, 0.70644254])"
      ]
     },
     "execution_count": 15,
     "metadata": {},
     "output_type": "execute_result"
    }
   ],
   "source": [
    "MPL_Final_cv_scores = cross_val_score(MLPClf_final, X_train, y_train, cv=5)\n",
    "\n",
    "MPL_Final_cv_scores"
   ]
  },
  {
   "cell_type": "code",
   "execution_count": 14,
   "metadata": {
    "colab": {
     "base_uri": "https://localhost:8080/",
     "height": 282
    },
    "executionInfo": {
     "elapsed": 402,
     "status": "ok",
     "timestamp": 1651991142217,
     "user": {
      "displayName": "Asha G",
      "userId": "11159914543598210133"
     },
     "user_tz": -60
    },
    "id": "zhEfQcIbVaNl",
    "outputId": "3ac1c2e9-9258-4fb8-dd9d-e8e205654005"
   },
   "outputs": [
    {
     "data": {
      "text/plain": [
       "[<matplotlib.lines.Line2D at 0x7f44854c6090>]"
      ]
     },
     "execution_count": 14,
     "metadata": {},
     "output_type": "execute_result"
    },
    {
     "data": {
      "image/png": "[encoded data removed]",
      "text/plain": [
       "<Figure size 432x288 with 1 Axes>"
      ]
     },
     "metadata": {
      "needs_background": "light"
     },
     "output_type": "display_data"
    }
   ],
   "source": [
    "plt.plot(MLPClf_final.loss_curve_)"
   ]
  },
  {
   "cell_type": "code",
   "execution_count": 39,
   "metadata": {
    "colab": {
     "base_uri": "https://localhost:8080/"
    },
    "executionInfo": {
     "elapsed": 192,
     "status": "ok",
     "timestamp": 1652006851307,
     "user": {
      "displayName": "Asha G",
      "userId": "11159914543598210133"
     },
     "user_tz": -60
    },
    "id": "jUg3HjSiZfsP",
    "outputId": "eac297fb-7928-4efa-c0f0-6e375fec10c7"
   },
   "outputs": [
    {
     "data": {
      "text/plain": [
       "['drive/My Drive/ColabNotebooks/NN/CourseWork/HiggsDetection_NeuralComputing/SavedModels/MLP/MLP_FinalModelwithBestParameters.pkl']"
      ]
     },
     "execution_count": 39,
     "metadata": {},
     "output_type": "execute_result"
    }
   ],
   "source": [
    "GOOGLE_MODELS_SAVED = GOOGLE_DRIVE_PATH + '/SavedModels/MLP'\n",
    "\n",
    "joblib.dump(MLPClf_final, GOOGLE_MODELS_SAVED + '/MLP_FinalModelwithBestParameters.pkl')"
   ]
  },
  {
   "cell_type": "markdown",
   "metadata": {
    "id": "o_xSL9PwNVO-"
   },
   "source": [
    "*Ref : https://scikit-learn.org/stable/auto_examples/model_selection/plot_roc.html*\n",
    "\n"
   ]
  },
  {
   "cell_type": "code",
   "execution_count": 50,
   "metadata": {
    "colab": {
     "base_uri": "https://localhost:8080/",
     "height": 295
    },
    "executionInfo": {
     "elapsed": 484,
     "status": "ok",
     "timestamp": 1652009255965,
     "user": {
      "displayName": "Asha G",
      "userId": "11159914543598210133"
     },
     "user_tz": -60
    },
    "id": "68EreCDXZfu6",
    "outputId": "3bc72629-58a9-432f-8c1f-b19d76713cce"
   },
   "outputs": [
    {
     "data": {
      "image/png": "[encoded data removed]",
      "text/plain": [
       "<Figure size 432x288 with 1 Axes>"
      ]
     },
     "metadata": {
      "needs_background": "light"
     },
     "output_type": "display_data"
    }
   ],
   "source": [
    "from sklearn.metrics import roc_curve, auc\n",
    "from sklearn.metrics import roc_auc_score\n",
    "\n",
    "MLPVal_fpr, MLPVal_tpr, MLPVal_thresholds = roc_curve(y_val, y_preds5)\n",
    "roc_auc = auc(MLPVal_fpr, MLPVal_tpr)\n",
    "\n",
    "plt.figure()\n",
    "plt.plot(MLPVal_fpr, MLPVal_tpr, color=\"darkorange\",\n",
    "label=\"ROC curve (area = %0.2f)\" % roc_auc,)\n",
    "plt.plot([0, 1], [0, 1], color=\"darkgreen\",  linestyle=\"--\")\n",
    "plt.xlim([0.0, 1.0])\n",
    "plt.ylim([0.0, 1.05])\n",
    "plt.xlabel(\"False Positive Rate\")\n",
    "plt.ylabel(\"True Positive Rate\")\n",
    "plt.title(\"ROC for MLP - Validation data\")\n",
    "plt.legend(loc=\"lower right\")\n",
    "plt.show()\n"
   ]
  },
  {
   "cell_type": "code",
   "execution_count": 22,
   "metadata": {
    "executionInfo": {
     "elapsed": 239,
     "status": "ok",
     "timestamp": 1651992609325,
     "user": {
      "displayName": "Asha G",
      "userId": "11159914543598210133"
     },
     "user_tz": -60
    },
    "id": "V3OOUqxsZfxg"
   },
   "outputs": [],
   "source": [
    "#-------------------------------------------------------END OF TRAINING--------------------------------------#"
   ]
  },
  {
   "cell_type": "code",
   "execution_count": null,
   "metadata": {
    "id": "WKVNu5YSZfzo"
   },
   "outputs": [],
   "source": []
  },
  {
   "cell_type": "markdown",
   "metadata": {
    "id": "8KSgab3IMTsa"
   },
   "source": [
    "## Testing\n",
    "\n",
    "Now that the best set of parameters and best model is created, this model is saved and can be loaded any where by using **load(pkl_file_path)** . This need not be trained going further, any data can be directly tested with the below lined of code"
   ]
  },
  {
   "cell_type": "code",
   "execution_count": 58,
   "metadata": {
    "executionInfo": {
     "elapsed": 175,
     "status": "ok",
     "timestamp": 1652020987105,
     "user": {
      "displayName": "Asha G",
      "userId": "11159914543598210133"
     },
     "user_tz": -60
    },
    "id": "3WKwqznuZf2H"
   },
   "outputs": [],
   "source": [
    "from joblib import dump, load\n",
    "\n",
    "\n",
    "TEST_GOOGLE_FOLDER = GOOGLE_DRIVE_PATH + '/SavedModels/TestingBestModels'\n"
   ]
  },
  {
   "cell_type": "code",
   "execution_count": 59,
   "metadata": {
    "executionInfo": {
     "elapsed": 895,
     "status": "ok",
     "timestamp": 1652020988701,
     "user": {
      "displayName": "Asha G",
      "userId": "11159914543598210133"
     },
     "user_tz": -60
    },
    "id": "Fhmi58kPOB-F"
   },
   "outputs": [],
   "source": [
    "X_test = pd.read_csv(TEST_GOOGLE_FOLDER+'/X_test_data.csv')\n",
    "y_test = pd.read_csv(TEST_GOOGLE_FOLDER+'/y_test_data.csv')"
   ]
  },
  {
   "cell_type": "code",
   "execution_count": 60,
   "metadata": {
    "executionInfo": {
     "elapsed": 186,
     "status": "ok",
     "timestamp": 1652021005171,
     "user": {
      "displayName": "Asha G",
      "userId": "11159914543598210133"
     },
     "user_tz": -60
    },
    "id": "i20cRJLAPVv3"
   },
   "outputs": [],
   "source": [
    "BestClassifier_MLP = load(TEST_GOOGLE_FOLDER + '/MLP_FinalModelwithBestParameters.pkl') "
   ]
  },
  {
   "cell_type": "code",
   "execution_count": 61,
   "metadata": {
    "colab": {
     "base_uri": "https://localhost:8080/"
    },
    "executionInfo": {
     "elapsed": 379,
     "status": "ok",
     "timestamp": 1652021006351,
     "user": {
      "displayName": "Asha G",
      "userId": "11159914543598210133"
     },
     "user_tz": -60
    },
    "id": "uPvnBOgIIAC7",
    "outputId": "1137a792-7fd3-4b64-dff8-89b37c1f2159"
   },
   "outputs": [
    {
     "name": "stdout",
     "output_type": "stream",
     "text": [
      "MLP Accuracy on Test data: \n",
      "0.5782253952065273\n",
      "MLP Results for Test data  : \n",
      "              precision    recall  f1-score   support\n",
      "\n",
      "           0       0.56      0.49      0.52      9205\n",
      "           1       0.59      0.66      0.62     10405\n",
      "\n",
      "    accuracy                           0.58     19610\n",
      "   macro avg       0.58      0.57      0.57     19610\n",
      "weighted avg       0.58      0.58      0.58     19610\n",
      "\n"
     ]
    }
   ],
   "source": [
    "scaler_test = StandardScaler()  \n",
    "scaler_test.fit(X_test)\n",
    "\n",
    "X_test = scaler_test.transform(X_test)\n",
    "\n",
    "\n",
    "from sklearn.decomposition import PCA\n",
    "# Make an instance of the Model\n",
    "pca = PCA(n_components = 27)\n",
    "\n",
    "pca.fit(X_test)\n",
    "\n",
    "X_test = pca.transform(X_test)\n",
    "\n",
    "\n",
    "y_preds_test = BestClassifier_MLP.predict(X_test)\n",
    "\n",
    "print('MLP Accuracy on Test data: ')\n",
    "print(BestClassifier_MLP.score(X_test, y_test))\n",
    "\n",
    "print('MLP Results for Test data  : ')\n",
    "print(classification_report(y_test, y_preds_test))"
   ]
  },
  {
   "cell_type": "code",
   "execution_count": 62,
   "metadata": {
    "colab": {
     "base_uri": "https://localhost:8080/",
     "height": 350
    },
    "executionInfo": {
     "elapsed": 479,
     "status": "ok",
     "timestamp": 1652021014620,
     "user": {
      "displayName": "Asha G",
      "userId": "11159914543598210133"
     },
     "user_tz": -60
    },
    "id": "c6I3r1iF9A-D",
    "outputId": "79762a24-c38a-4dda-c8e8-74a56b66396c"
   },
   "outputs": [
    {
     "name": "stderr",
     "output_type": "stream",
     "text": [
      "/usr/local/lib/python3.7/dist-packages/sklearn/utils/deprecation.py:87: FutureWarning: Function plot_confusion_matrix is deprecated; Function `plot_confusion_matrix` is deprecated in 1.0 and will be removed in 1.2. Use one of the class methods: ConfusionMatrixDisplay.from_predictions or ConfusionMatrixDisplay.from_estimator.\n",
      "  warnings.warn(msg, category=FutureWarning)\n"
     ]
    },
    {
     "data": {
      "image/png": "[encoded data removed]",
      "text/plain": [
       "<Figure size 432x288 with 2 Axes>"
      ]
     },
     "metadata": {
      "needs_background": "light"
     },
     "output_type": "display_data"
    }
   ],
   "source": [
    "from sklearn.metrics import plot_confusion_matrix\n",
    "plot_confusion_matrix(BestClassifier_MLP, X_test, y_test)  \n",
    "plt.title('Confusion matrix - MLP Test data')\n",
    "plt.show()"
   ]
  },
  {
   "cell_type": "code",
   "execution_count": 63,
   "metadata": {
    "colab": {
     "base_uri": "https://localhost:8080/",
     "height": 295
    },
    "executionInfo": {
     "elapsed": 1444,
     "status": "ok",
     "timestamp": 1652021018950,
     "user": {
      "displayName": "Asha G",
      "userId": "11159914543598210133"
     },
     "user_tz": -60
    },
    "id": "YlrkH87eZxlq",
    "outputId": "c697eb47-f2af-4867-f1c2-cbd42464c97c"
   },
   "outputs": [
    {
     "data": {
      "image/png": "[encoded data removed]",
      "text/plain": [
       "<Figure size 432x288 with 1 Axes>"
      ]
     },
     "metadata": {
      "needs_background": "light"
     },
     "output_type": "display_data"
    }
   ],
   "source": [
    "from sklearn.metrics import roc_curve, auc\n",
    "from sklearn.metrics import roc_auc_score\n",
    "\n",
    "MLPTEST_fpr, MLPTEST_tpr, MLPTEST_thresholds = roc_curve(y_preds_test, y_test)\n",
    "roc_auc_TEST = auc(MLPTEST_fpr, MLPTEST_fpr)\n",
    "\n",
    "plt.figure()\n",
    "plt.plot(MLPTEST_fpr, MLPTEST_tpr, color=\"darkorange\",\n",
    "label=\"ROC curve (area = %0.2f)\" % roc_auc_TEST,)\n",
    "plt.plot([0, 1], [0, 1], color=\"darkgreen\",  linestyle=\"--\")\n",
    "plt.xlim([0.0, 1.0])\n",
    "plt.ylim([0.0, 1.05])\n",
    "plt.xlabel(\"False Positive Rate\")\n",
    "plt.ylabel(\"True Positive Rate\")\n",
    "plt.title(\"ROC for MLP - Test data\")\n",
    "plt.legend(loc=\"lower right\")\n",
    "plt.show()\n"
   ]
  },
  {
   "cell_type": "markdown",
   "metadata": {
    "id": "5aYi01lUbDSA"
   },
   "source": [
    "ROC - Validation and Test"
   ]
  },
  {
   "cell_type": "code",
   "execution_count": null,
   "metadata": {
    "id": "qSe7WVv7bCg0"
   },
   "outputs": [],
   "source": []
  },
  {
   "cell_type": "code",
   "execution_count": 64,
   "metadata": {
    "colab": {
     "base_uri": "https://localhost:8080/",
     "height": 295
    },
    "executionInfo": {
     "elapsed": 673,
     "status": "ok",
     "timestamp": 1652021023225,
     "user": {
      "displayName": "Asha G",
      "userId": "11159914543598210133"
     },
     "user_tz": -60
    },
    "id": "iecX_H0cZxr_",
    "outputId": "ea0dab02-615b-4b56-e2c4-3e8edab763b6"
   },
   "outputs": [
    {
     "data": {
      "image/png": "[encoded data removed]",
      "text/plain": [
       "<Figure size 432x288 with 1 Axes>"
      ]
     },
     "metadata": {
      "needs_background": "light"
     },
     "output_type": "display_data"
    }
   ],
   "source": [
    "MLPTEST_fpr, MLPTEST_tpr, MLPTEST_thresholds = roc_curve(y_preds_test, y_test)\n",
    "roc_auc_TEST = auc(MLPTEST_fpr, MLPTEST_fpr)\n",
    "\n",
    "plt.figure()\n",
    "plt.plot(MLPVal_fpr, MLPVal_tpr, color=\"darkgreen\",\n",
    "label=\"ROC Validation curve (area = %0.2f)\" % roc_auc,)\n",
    "plt.plot(MLPTEST_fpr, MLPTEST_tpr, color=\"darkorange\",\n",
    "label=\"ROC Test curve (area = %0.2f)\" % roc_auc_TEST,)\n",
    "plt.plot([0, 1], [0, 1], color=\"black\",  linestyle=\"--\")\n",
    "plt.xlim([0.0, 1.0])\n",
    "plt.ylim([0.0, 1.05])\n",
    "plt.xlabel(\"False Positive Rate\")\n",
    "plt.ylabel(\"True Positive Rate\")\n",
    "plt.title(\"ROC for MLP - Test data\")\n",
    "plt.legend(loc=\"lower right\")\n",
    "plt.show()"
   ]
  },
  {
   "cell_type": "code",
   "execution_count": null,
   "metadata": {
    "id": "3QKiauALZxuG"
   },
   "outputs": [],
   "source": [
    "plt.plot(MLPVal_fpr, MLPVal_tpr, color=\"darkorange\",\n",
    "label=\"ROC curve (area = %0.2f)\" % roc_auc,)"
   ]
  }
 ],
 "metadata": {
  "accelerator": "TPU",
  "colab": {
   "authorship_tag": "ABX9TyNnYjPIOHvL5OGZea7hDGc3",
   "collapsed_sections": [],
   "name": "MLP_HiggsDetection.ipynb",
   "provenance": []
  },
  "kernelspec": {
   "display_name": "Python 3 (ipykernel)",
   "language": "python",
   "name": "python3"
  },
  "language_info": {
   "codemirror_mode": {
    "name": "ipython",
    "version": 3
   },
   "file_extension": ".py",
   "mimetype": "text/x-python",
   "name": "python",
   "nbconvert_exporter": "python",
   "pygments_lexer": "ipython3",
   "version": "3.9.7"
  }
 },
 "nbformat": 4,
 "nbformat_minor": 1
}
