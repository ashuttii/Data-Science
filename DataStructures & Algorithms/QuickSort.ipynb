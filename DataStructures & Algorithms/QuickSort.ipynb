{
 "cells": [
  {
   "cell_type": "markdown",
   "id": "459bdd78",
   "metadata": {},
   "source": [
    "# Quick Sort\n",
    "\n",
    "QuickSort ==> PIVOT element is used\n",
    "\n",
    "### ALGORITHM:\n",
    "\n",
    "step 1 : Choose a pivot value (here last value of the list)\n",
    "\n",
    "step 2 : create a small and greater empty list\n",
    "\n",
    "step 3: if length of list <=1 return list\n",
    "\n",
    "strp 4: loop through the elements (till the last but before element as it is the pivote element), if value is lesser than or equal to pivot append to smaller_list, else greater_list \n",
    "\n",
    "step 5: make reccursive call to the function with smaller and greater lists\n"
   ]
  },
  {
   "cell_type": "code",
   "execution_count": 25,
   "id": "37d18ab8",
   "metadata": {},
   "outputs": [],
   "source": [
    "def quicksort(list_sort):\n",
    "    if(len(list_sort)<=1):\n",
    "        return list_sort  \n",
    "    pivot = list_sort[-1]\n",
    "    print(pivot)\n",
    "    great_list = []\n",
    "    less_list = []\n",
    "    \n",
    "    for i in range (0,len(list_sort)-1) : \n",
    "        if list_sort[i] <= pivot : \n",
    "            less_list.append(list_sort[i])\n",
    "        else : \n",
    "            great_list.append(list_sort[i])\n",
    "            \n",
    "    print(less_list + [pivot] + great_list)\n",
    "    return quicksort(less_list) + [pivot] + quicksort(great_list)\n",
    "        \n",
    "        "
   ]
  },
  {
   "cell_type": "code",
   "execution_count": 26,
   "id": "e1ad07cf",
   "metadata": {},
   "outputs": [
    {
     "name": "stdout",
     "output_type": "stream",
     "text": [
      "5\n",
      "[5, 3, 4, 1, 2, 3, 5, 8, 9, 6]\n",
      "3\n",
      "[3, 1, 2, 3, 5, 4]\n",
      "2\n",
      "[1, 2, 3]\n",
      "4\n",
      "[4, 5]\n",
      "6\n",
      "[6, 8, 9]\n",
      "9\n",
      "[8, 9]\n"
     ]
    },
    {
     "data": {
      "text/plain": [
       "[1, 2, 3, 3, 4, 5, 5, 6, 8, 9]"
      ]
     },
     "execution_count": 26,
     "metadata": {},
     "output_type": "execute_result"
    }
   ],
   "source": [
    "quicksort([5,3,4,8,9,1,2,3,6,5])"
   ]
  },
  {
   "cell_type": "code",
   "execution_count": 22,
   "id": "a7db3c05",
   "metadata": {},
   "outputs": [
    {
     "name": "stdout",
     "output_type": "stream",
     "text": [
      "9\n",
      "[2, 2, 4, 1, 4, 6, 5, 4, 0, 9, 8, 7, 9]\n",
      "7\n",
      "[2, 2, 4, 1, 4, 6, 5, 4, 0, 7, 9, 8]\n",
      "0\n",
      "[0, 2, 2, 4, 1, 4, 6, 5, 4]\n",
      "4\n",
      "[2, 2, 4, 1, 4, 4, 6, 5]\n",
      "4\n",
      "[2, 2, 4, 1, 4]\n",
      "1\n",
      "[1, 2, 2, 4]\n",
      "4\n",
      "[2, 2, 4]\n",
      "2\n",
      "[2, 2]\n",
      "5\n",
      "[5, 6]\n",
      "8\n",
      "[8, 9]\n"
     ]
    },
    {
     "data": {
      "text/plain": [
       "[0, 1, 2, 2, 4, 4, 4, 5, 6, 7, 8, 9, 9]"
      ]
     },
     "execution_count": 22,
     "metadata": {},
     "output_type": "execute_result"
    }
   ],
   "source": [
    "quicksort([2,2,4,1,4,6,5,4,0,9,8,7,9])"
   ]
  },
  {
   "cell_type": "code",
   "execution_count": null,
   "id": "00775f4d",
   "metadata": {},
   "outputs": [],
   "source": []
  },
  {
   "cell_type": "code",
   "execution_count": null,
   "id": "e270dddc",
   "metadata": {},
   "outputs": [],
   "source": []
  }
 ],
 "metadata": {
  "kernelspec": {
   "display_name": "Python 3 (ipykernel)",
   "language": "python",
   "name": "python3"
  },
  "language_info": {
   "codemirror_mode": {
    "name": "ipython",
    "version": 3
   },
   "file_extension": ".py",
   "mimetype": "text/x-python",
   "name": "python",
   "nbconvert_exporter": "python",
   "pygments_lexer": "ipython3",
   "version": "3.9.7"
  }
 },
 "nbformat": 4,
 "nbformat_minor": 5
}
