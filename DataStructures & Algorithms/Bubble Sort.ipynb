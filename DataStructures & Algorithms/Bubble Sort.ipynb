{
 "cells": [
  {
   "cell_type": "markdown",
   "id": "c92731ce",
   "metadata": {},
   "source": [
    "# Bubble Sort\n",
    "\n",
    "Bubble sort is when we sort 2 elements at a time "
   ]
  },
  {
   "cell_type": "code",
   "execution_count": 10,
   "id": "1c10b69c",
   "metadata": {},
   "outputs": [],
   "source": [
    "def bubble_sort(list_sort):\n",
    "    while(True) : \n",
    "        switch = 0\n",
    "        for i in range (0, len(list_sort)-1):\n",
    "            \n",
    "            print(list_sort)\n",
    "            if list_sort[i] > list_sort[i+1]:\n",
    "                temp = list_sort[i]\n",
    "                list_sort[i] = list_sort[i+1]\n",
    "                list_sort[i+1] = temp\n",
    "                \n",
    "                switch +=1\n",
    "                \n",
    "        if switch == 0:\n",
    "            return list_sort\n",
    "        \n",
    "            \n",
    "            "
   ]
  },
  {
   "cell_type": "code",
   "execution_count": 11,
   "id": "e9a64caa",
   "metadata": {},
   "outputs": [
    {
     "name": "stdout",
     "output_type": "stream",
     "text": [
      "[7, 4, 1, 6, 4, 8, 3]\n",
      "[4, 7, 1, 6, 4, 8, 3]\n",
      "[4, 1, 7, 6, 4, 8, 3]\n",
      "[4, 1, 6, 7, 4, 8, 3]\n",
      "[4, 1, 6, 4, 7, 8, 3]\n",
      "[4, 1, 6, 4, 7, 8, 3]\n",
      "[4, 1, 6, 4, 7, 3, 8]\n",
      "[1, 4, 6, 4, 7, 3, 8]\n",
      "[1, 4, 6, 4, 7, 3, 8]\n",
      "[1, 4, 4, 6, 7, 3, 8]\n",
      "[1, 4, 4, 6, 7, 3, 8]\n",
      "[1, 4, 4, 6, 3, 7, 8]\n",
      "[1, 4, 4, 6, 3, 7, 8]\n",
      "[1, 4, 4, 6, 3, 7, 8]\n",
      "[1, 4, 4, 6, 3, 7, 8]\n",
      "[1, 4, 4, 6, 3, 7, 8]\n",
      "[1, 4, 4, 3, 6, 7, 8]\n",
      "[1, 4, 4, 3, 6, 7, 8]\n",
      "[1, 4, 4, 3, 6, 7, 8]\n",
      "[1, 4, 4, 3, 6, 7, 8]\n",
      "[1, 4, 4, 3, 6, 7, 8]\n",
      "[1, 4, 3, 4, 6, 7, 8]\n",
      "[1, 4, 3, 4, 6, 7, 8]\n",
      "[1, 4, 3, 4, 6, 7, 8]\n",
      "[1, 4, 3, 4, 6, 7, 8]\n",
      "[1, 4, 3, 4, 6, 7, 8]\n",
      "[1, 3, 4, 4, 6, 7, 8]\n",
      "[1, 3, 4, 4, 6, 7, 8]\n",
      "[1, 3, 4, 4, 6, 7, 8]\n",
      "[1, 3, 4, 4, 6, 7, 8]\n",
      "[1, 3, 4, 4, 6, 7, 8]\n",
      "[1, 3, 4, 4, 6, 7, 8]\n",
      "[1, 3, 4, 4, 6, 7, 8]\n",
      "[1, 3, 4, 4, 6, 7, 8]\n",
      "[1, 3, 4, 4, 6, 7, 8]\n",
      "[1, 3, 4, 4, 6, 7, 8]\n"
     ]
    },
    {
     "data": {
      "text/plain": [
       "[1, 3, 4, 4, 6, 7, 8]"
      ]
     },
     "execution_count": 11,
     "metadata": {},
     "output_type": "execute_result"
    }
   ],
   "source": [
    "bubble_sort([7,4,1,6,4,8,3])"
   ]
  },
  {
   "cell_type": "code",
   "execution_count": null,
   "id": "308003db",
   "metadata": {},
   "outputs": [],
   "source": []
  }
 ],
 "metadata": {
  "kernelspec": {
   "display_name": "Python 3 (ipykernel)",
   "language": "python",
   "name": "python3"
  },
  "language_info": {
   "codemirror_mode": {
    "name": "ipython",
    "version": 3
   },
   "file_extension": ".py",
   "mimetype": "text/x-python",
   "name": "python",
   "nbconvert_exporter": "python",
   "pygments_lexer": "ipython3",
   "version": "3.9.7"
  }
 },
 "nbformat": 4,
 "nbformat_minor": 5
}
